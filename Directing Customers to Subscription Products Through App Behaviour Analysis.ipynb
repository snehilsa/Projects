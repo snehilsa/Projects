{
 "cells": [
  {
   "cell_type": "markdown",
   "metadata": {},
   "source": [
    "# Problem Statement\n",
    "\n",
    "* Mobile apps like Youtube red ,Tinder for example, has free service in hope to entice users to subscription based model.\n",
    "* Goal is to convert free members to paid members\n",
    "\n",
    "* Our problem has a fintech company which provides customers \n",
    "    with paid mobile app to track all finances in one place.\n",
    "    Company has a free version with some features locked.\n",
    "* We have to find customers who will not enroll in paid product. Therefore, improving targeting."
   ]
  },
  {
   "cell_type": "markdown",
   "metadata": {},
   "source": [
    "# Data \n",
    "* Detailed behavioural data of users - when they installed, what features they used and what screens they looked at.\n",
    "* Data is only of first day of the user because free trial till 24 hours, after which company wants to target them with new offers."
   ]
  },
  {
   "cell_type": "markdown",
   "metadata": {},
   "source": [
    "# Dataset and EDA"
   ]
  },
  {
   "cell_type": "code",
   "execution_count": 135,
   "metadata": {},
   "outputs": [],
   "source": [
    "import numpy as np\n",
    "import pandas as pd\n",
    "import seaborn as sns\n",
    "import matplotlib.pyplot as plt\n",
    "from dateutil import parser"
   ]
  },
  {
   "cell_type": "code",
   "execution_count": 136,
   "metadata": {},
   "outputs": [],
   "source": [
    "data=pd.read_csv('appdata10.csv')"
   ]
  },
  {
   "cell_type": "code",
   "execution_count": 137,
   "metadata": {},
   "outputs": [
    {
     "data": {
      "text/html": [
       "<div>\n",
       "<style scoped>\n",
       "    .dataframe tbody tr th:only-of-type {\n",
       "        vertical-align: middle;\n",
       "    }\n",
       "\n",
       "    .dataframe tbody tr th {\n",
       "        vertical-align: top;\n",
       "    }\n",
       "\n",
       "    .dataframe thead th {\n",
       "        text-align: right;\n",
       "    }\n",
       "</style>\n",
       "<table border=\"1\" class=\"dataframe\">\n",
       "  <thead>\n",
       "    <tr style=\"text-align: right;\">\n",
       "      <th></th>\n",
       "      <th>user</th>\n",
       "      <th>first_open</th>\n",
       "      <th>dayofweek</th>\n",
       "      <th>hour</th>\n",
       "      <th>age</th>\n",
       "      <th>screen_list</th>\n",
       "      <th>numscreens</th>\n",
       "      <th>minigame</th>\n",
       "      <th>used_premium_feature</th>\n",
       "      <th>enrolled</th>\n",
       "      <th>enrolled_date</th>\n",
       "      <th>liked</th>\n",
       "    </tr>\n",
       "  </thead>\n",
       "  <tbody>\n",
       "    <tr>\n",
       "      <th>0</th>\n",
       "      <td>235136</td>\n",
       "      <td>2012-12-27 02:14:51.273</td>\n",
       "      <td>3</td>\n",
       "      <td>02:00:00</td>\n",
       "      <td>23</td>\n",
       "      <td>idscreen,joinscreen,Cycle,product_review,ScanP...</td>\n",
       "      <td>15</td>\n",
       "      <td>0</td>\n",
       "      <td>0</td>\n",
       "      <td>0</td>\n",
       "      <td>NaN</td>\n",
       "      <td>0</td>\n",
       "    </tr>\n",
       "    <tr>\n",
       "      <th>1</th>\n",
       "      <td>333588</td>\n",
       "      <td>2012-12-02 01:16:00.905</td>\n",
       "      <td>6</td>\n",
       "      <td>01:00:00</td>\n",
       "      <td>24</td>\n",
       "      <td>joinscreen,product_review,product_review2,Scan...</td>\n",
       "      <td>13</td>\n",
       "      <td>0</td>\n",
       "      <td>0</td>\n",
       "      <td>0</td>\n",
       "      <td>NaN</td>\n",
       "      <td>0</td>\n",
       "    </tr>\n",
       "    <tr>\n",
       "      <th>2</th>\n",
       "      <td>254414</td>\n",
       "      <td>2013-03-19 19:19:09.157</td>\n",
       "      <td>1</td>\n",
       "      <td>19:00:00</td>\n",
       "      <td>23</td>\n",
       "      <td>Splash,Cycle,Loan</td>\n",
       "      <td>3</td>\n",
       "      <td>0</td>\n",
       "      <td>1</td>\n",
       "      <td>0</td>\n",
       "      <td>NaN</td>\n",
       "      <td>1</td>\n",
       "    </tr>\n",
       "    <tr>\n",
       "      <th>3</th>\n",
       "      <td>234192</td>\n",
       "      <td>2013-07-05 16:08:46.354</td>\n",
       "      <td>4</td>\n",
       "      <td>16:00:00</td>\n",
       "      <td>28</td>\n",
       "      <td>product_review,Home,product_review,Loan3,Finan...</td>\n",
       "      <td>40</td>\n",
       "      <td>0</td>\n",
       "      <td>0</td>\n",
       "      <td>1</td>\n",
       "      <td>2013-07-05 16:11:49.513</td>\n",
       "      <td>0</td>\n",
       "    </tr>\n",
       "    <tr>\n",
       "      <th>4</th>\n",
       "      <td>51549</td>\n",
       "      <td>2013-02-26 18:50:48.661</td>\n",
       "      <td>1</td>\n",
       "      <td>18:00:00</td>\n",
       "      <td>31</td>\n",
       "      <td>idscreen,joinscreen,Cycle,Credit3Container,Sca...</td>\n",
       "      <td>32</td>\n",
       "      <td>0</td>\n",
       "      <td>0</td>\n",
       "      <td>1</td>\n",
       "      <td>2013-02-26 18:56:37.841</td>\n",
       "      <td>1</td>\n",
       "    </tr>\n",
       "  </tbody>\n",
       "</table>\n",
       "</div>"
      ],
      "text/plain": [
       "     user               first_open  dayofweek       hour  age  \\\n",
       "0  235136  2012-12-27 02:14:51.273          3   02:00:00   23   \n",
       "1  333588  2012-12-02 01:16:00.905          6   01:00:00   24   \n",
       "2  254414  2013-03-19 19:19:09.157          1   19:00:00   23   \n",
       "3  234192  2013-07-05 16:08:46.354          4   16:00:00   28   \n",
       "4   51549  2013-02-26 18:50:48.661          1   18:00:00   31   \n",
       "\n",
       "                                         screen_list  numscreens  minigame  \\\n",
       "0  idscreen,joinscreen,Cycle,product_review,ScanP...          15         0   \n",
       "1  joinscreen,product_review,product_review2,Scan...          13         0   \n",
       "2                                  Splash,Cycle,Loan           3         0   \n",
       "3  product_review,Home,product_review,Loan3,Finan...          40         0   \n",
       "4  idscreen,joinscreen,Cycle,Credit3Container,Sca...          32         0   \n",
       "\n",
       "   used_premium_feature  enrolled            enrolled_date  liked  \n",
       "0                     0         0                      NaN      0  \n",
       "1                     0         0                      NaN      0  \n",
       "2                     1         0                      NaN      1  \n",
       "3                     0         1  2013-07-05 16:11:49.513      0  \n",
       "4                     0         1  2013-02-26 18:56:37.841      1  "
      ]
     },
     "execution_count": 137,
     "metadata": {},
     "output_type": "execute_result"
    }
   ],
   "source": [
    "data.head()"
   ]
  },
  {
   "cell_type": "code",
   "execution_count": 138,
   "metadata": {},
   "outputs": [
    {
     "data": {
      "text/html": [
       "<div>\n",
       "<style scoped>\n",
       "    .dataframe tbody tr th:only-of-type {\n",
       "        vertical-align: middle;\n",
       "    }\n",
       "\n",
       "    .dataframe tbody tr th {\n",
       "        vertical-align: top;\n",
       "    }\n",
       "\n",
       "    .dataframe thead th {\n",
       "        text-align: right;\n",
       "    }\n",
       "</style>\n",
       "<table border=\"1\" class=\"dataframe\">\n",
       "  <thead>\n",
       "    <tr style=\"text-align: right;\">\n",
       "      <th></th>\n",
       "      <th>user</th>\n",
       "      <th>dayofweek</th>\n",
       "      <th>age</th>\n",
       "      <th>numscreens</th>\n",
       "      <th>minigame</th>\n",
       "      <th>used_premium_feature</th>\n",
       "      <th>enrolled</th>\n",
       "      <th>liked</th>\n",
       "    </tr>\n",
       "  </thead>\n",
       "  <tbody>\n",
       "    <tr>\n",
       "      <th>count</th>\n",
       "      <td>50000.000000</td>\n",
       "      <td>50000.000000</td>\n",
       "      <td>50000.00000</td>\n",
       "      <td>50000.000000</td>\n",
       "      <td>50000.000000</td>\n",
       "      <td>50000.000000</td>\n",
       "      <td>50000.000000</td>\n",
       "      <td>50000.000000</td>\n",
       "    </tr>\n",
       "    <tr>\n",
       "      <th>mean</th>\n",
       "      <td>186889.729900</td>\n",
       "      <td>3.029860</td>\n",
       "      <td>31.72436</td>\n",
       "      <td>21.095900</td>\n",
       "      <td>0.107820</td>\n",
       "      <td>0.172020</td>\n",
       "      <td>0.621480</td>\n",
       "      <td>0.165000</td>\n",
       "    </tr>\n",
       "    <tr>\n",
       "      <th>std</th>\n",
       "      <td>107768.520361</td>\n",
       "      <td>2.031997</td>\n",
       "      <td>10.80331</td>\n",
       "      <td>15.728812</td>\n",
       "      <td>0.310156</td>\n",
       "      <td>0.377402</td>\n",
       "      <td>0.485023</td>\n",
       "      <td>0.371184</td>\n",
       "    </tr>\n",
       "    <tr>\n",
       "      <th>min</th>\n",
       "      <td>13.000000</td>\n",
       "      <td>0.000000</td>\n",
       "      <td>16.00000</td>\n",
       "      <td>1.000000</td>\n",
       "      <td>0.000000</td>\n",
       "      <td>0.000000</td>\n",
       "      <td>0.000000</td>\n",
       "      <td>0.000000</td>\n",
       "    </tr>\n",
       "    <tr>\n",
       "      <th>25%</th>\n",
       "      <td>93526.750000</td>\n",
       "      <td>1.000000</td>\n",
       "      <td>24.00000</td>\n",
       "      <td>10.000000</td>\n",
       "      <td>0.000000</td>\n",
       "      <td>0.000000</td>\n",
       "      <td>0.000000</td>\n",
       "      <td>0.000000</td>\n",
       "    </tr>\n",
       "    <tr>\n",
       "      <th>50%</th>\n",
       "      <td>187193.500000</td>\n",
       "      <td>3.000000</td>\n",
       "      <td>29.00000</td>\n",
       "      <td>18.000000</td>\n",
       "      <td>0.000000</td>\n",
       "      <td>0.000000</td>\n",
       "      <td>1.000000</td>\n",
       "      <td>0.000000</td>\n",
       "    </tr>\n",
       "    <tr>\n",
       "      <th>75%</th>\n",
       "      <td>279984.250000</td>\n",
       "      <td>5.000000</td>\n",
       "      <td>37.00000</td>\n",
       "      <td>28.000000</td>\n",
       "      <td>0.000000</td>\n",
       "      <td>0.000000</td>\n",
       "      <td>1.000000</td>\n",
       "      <td>0.000000</td>\n",
       "    </tr>\n",
       "    <tr>\n",
       "      <th>max</th>\n",
       "      <td>373662.000000</td>\n",
       "      <td>6.000000</td>\n",
       "      <td>101.00000</td>\n",
       "      <td>325.000000</td>\n",
       "      <td>1.000000</td>\n",
       "      <td>1.000000</td>\n",
       "      <td>1.000000</td>\n",
       "      <td>1.000000</td>\n",
       "    </tr>\n",
       "  </tbody>\n",
       "</table>\n",
       "</div>"
      ],
      "text/plain": [
       "                user     dayofweek          age    numscreens      minigame  \\\n",
       "count   50000.000000  50000.000000  50000.00000  50000.000000  50000.000000   \n",
       "mean   186889.729900      3.029860     31.72436     21.095900      0.107820   \n",
       "std    107768.520361      2.031997     10.80331     15.728812      0.310156   \n",
       "min        13.000000      0.000000     16.00000      1.000000      0.000000   \n",
       "25%     93526.750000      1.000000     24.00000     10.000000      0.000000   \n",
       "50%    187193.500000      3.000000     29.00000     18.000000      0.000000   \n",
       "75%    279984.250000      5.000000     37.00000     28.000000      0.000000   \n",
       "max    373662.000000      6.000000    101.00000    325.000000      1.000000   \n",
       "\n",
       "       used_premium_feature      enrolled         liked  \n",
       "count          50000.000000  50000.000000  50000.000000  \n",
       "mean               0.172020      0.621480      0.165000  \n",
       "std                0.377402      0.485023      0.371184  \n",
       "min                0.000000      0.000000      0.000000  \n",
       "25%                0.000000      0.000000      0.000000  \n",
       "50%                0.000000      1.000000      0.000000  \n",
       "75%                0.000000      1.000000      0.000000  \n",
       "max                1.000000      1.000000      1.000000  "
      ]
     },
     "execution_count": 138,
     "metadata": {},
     "output_type": "execute_result"
    }
   ],
   "source": [
    "data.describe()"
   ]
  },
  {
   "cell_type": "code",
   "execution_count": 139,
   "metadata": {},
   "outputs": [],
   "source": [
    "# Data cleaning\n",
    "#Time is in UTC\n",
    "data['hour']=data.hour.str.slice(1,3).astype('int')"
   ]
  },
  {
   "cell_type": "code",
   "execution_count": 140,
   "metadata": {},
   "outputs": [],
   "source": [
    "#Plotting\n",
    "#Remove all columns not needed\n",
    "data2=data.copy().drop(columns=['user','screen_list','enrolled_date','first_open','enrolled'])"
   ]
  },
  {
   "cell_type": "code",
   "execution_count": 141,
   "metadata": {},
   "outputs": [
    {
     "data": {
      "text/html": [
       "<div>\n",
       "<style scoped>\n",
       "    .dataframe tbody tr th:only-of-type {\n",
       "        vertical-align: middle;\n",
       "    }\n",
       "\n",
       "    .dataframe tbody tr th {\n",
       "        vertical-align: top;\n",
       "    }\n",
       "\n",
       "    .dataframe thead th {\n",
       "        text-align: right;\n",
       "    }\n",
       "</style>\n",
       "<table border=\"1\" class=\"dataframe\">\n",
       "  <thead>\n",
       "    <tr style=\"text-align: right;\">\n",
       "      <th></th>\n",
       "      <th>dayofweek</th>\n",
       "      <th>hour</th>\n",
       "      <th>age</th>\n",
       "      <th>numscreens</th>\n",
       "      <th>minigame</th>\n",
       "      <th>used_premium_feature</th>\n",
       "      <th>liked</th>\n",
       "    </tr>\n",
       "  </thead>\n",
       "  <tbody>\n",
       "    <tr>\n",
       "      <th>0</th>\n",
       "      <td>3</td>\n",
       "      <td>2</td>\n",
       "      <td>23</td>\n",
       "      <td>15</td>\n",
       "      <td>0</td>\n",
       "      <td>0</td>\n",
       "      <td>0</td>\n",
       "    </tr>\n",
       "    <tr>\n",
       "      <th>1</th>\n",
       "      <td>6</td>\n",
       "      <td>1</td>\n",
       "      <td>24</td>\n",
       "      <td>13</td>\n",
       "      <td>0</td>\n",
       "      <td>0</td>\n",
       "      <td>0</td>\n",
       "    </tr>\n",
       "    <tr>\n",
       "      <th>2</th>\n",
       "      <td>1</td>\n",
       "      <td>19</td>\n",
       "      <td>23</td>\n",
       "      <td>3</td>\n",
       "      <td>0</td>\n",
       "      <td>1</td>\n",
       "      <td>1</td>\n",
       "    </tr>\n",
       "    <tr>\n",
       "      <th>3</th>\n",
       "      <td>4</td>\n",
       "      <td>16</td>\n",
       "      <td>28</td>\n",
       "      <td>40</td>\n",
       "      <td>0</td>\n",
       "      <td>0</td>\n",
       "      <td>0</td>\n",
       "    </tr>\n",
       "    <tr>\n",
       "      <th>4</th>\n",
       "      <td>1</td>\n",
       "      <td>18</td>\n",
       "      <td>31</td>\n",
       "      <td>32</td>\n",
       "      <td>0</td>\n",
       "      <td>0</td>\n",
       "      <td>1</td>\n",
       "    </tr>\n",
       "  </tbody>\n",
       "</table>\n",
       "</div>"
      ],
      "text/plain": [
       "   dayofweek  hour  age  numscreens  minigame  used_premium_feature  liked\n",
       "0          3     2   23          15         0                     0      0\n",
       "1          6     1   24          13         0                     0      0\n",
       "2          1    19   23           3         0                     1      1\n",
       "3          4    16   28          40         0                     0      0\n",
       "4          1    18   31          32         0                     0      1"
      ]
     },
     "execution_count": 141,
     "metadata": {},
     "output_type": "execute_result"
    }
   ],
   "source": [
    "data2.head()"
   ]
  },
  {
   "cell_type": "code",
   "execution_count": 142,
   "metadata": {},
   "outputs": [
    {
     "data": {
      "image/png": "[encoded data removed]",
      "text/plain": [
       "<Figure size 1080x576 with 7 Axes>"
      ]
     },
     "metadata": {},
     "output_type": "display_data"
    }
   ],
   "source": [
    "#Histograms\n",
    "plt.figure(figsize=(15,8))\n",
    "plt.suptitle('Histograms of all columns',fontsize=20)\n",
    "c=1\n",
    "for i in data2.columns:\n",
    "    #dimensions of image\n",
    "    plt.subplot(2,4,c)\n",
    "    c+=1\n",
    "    f=plt.gca() #creates field\n",
    "    f.set_title(i)\n",
    "    #how many bins to use\n",
    "    vals=np.size(data2.loc[:,i].unique()) #how many unique values\n",
    "    plt.hist(data2.loc[:,i],bins=vals,color='#3F5D7D')\n"
   ]
  },
  {
   "cell_type": "code",
   "execution_count": 143,
   "metadata": {},
   "outputs": [],
   "source": [
    "# We see 9-10 am UTC drop mean late night in PST"
   ]
  },
  {
   "cell_type": "code",
   "execution_count": 144,
   "metadata": {},
   "outputs": [],
   "source": [
    "#Correlation Plot - how each IV affects the DV, find which features are imp"
   ]
  },
  {
   "cell_type": "code",
   "execution_count": 145,
   "metadata": {},
   "outputs": [
    {
     "data": {
      "image/png": "[encoded data removed]",
      "text/plain": [
       "<Figure size 1440x720 with 1 Axes>"
      ]
     },
     "metadata": {},
     "output_type": "display_data"
    }
   ],
   "source": [
    "#Only with target variable\n",
    "data2.corrwith(data['enrolled']).plot.bar(figsize=(20,10),\n",
    "                                         title='Correlation with Response',fontsize=15,grid=True,rot=45);"
   ]
  },
  {
   "cell_type": "code",
   "execution_count": 146,
   "metadata": {},
   "outputs": [],
   "source": [
    "#Correlation matrix\n",
    "#Which field may be strongly related to each other - to avoid multicollinearity\n",
    "# to satisfy independence assumption"
   ]
  },
  {
   "cell_type": "code",
   "execution_count": 147,
   "metadata": {},
   "outputs": [
    {
     "data": {
      "text/plain": [
       "<matplotlib.axes._subplots.AxesSubplot at 0x7fe8a844dc90>"
      ]
     },
     "execution_count": 147,
     "metadata": {},
     "output_type": "execute_result"
    },
    {
     "data": {
      "image/png": "[encoded data removed]",
      "text/plain": [
       "<Figure size 1296x1080 with 2 Axes>"
      ]
     },
     "metadata": {},
     "output_type": "display_data"
    }
   ],
   "source": [
    "sns.set(style='white',font_scale=2)\n",
    "corr=data2.corr()\n",
    "#mask for upper triangle\n",
    "#because lower end is same as upper end\n",
    "#thus, no upper triangle\n",
    "mask=np.zeros_like(corr,dtype=np.bool)\n",
    "mask[np.triu_indices_from(mask)]=True\n",
    "\n",
    "#setup matplot fig\n",
    "f,ax=plt.subplots(figsize=(18,15))\n",
    "f.suptitle('Correlation Matrix',fontsize=40)\n",
    "\n",
    "#generate a custom diverging colormap\n",
    "cmap=sns.diverging_palette(220,10,as_cmap=True)\n",
    "\n",
    "#\n",
    "sns.heatmap(corr,mask=mask,cmap=cmap,vmax=.3,center=0,square=True,linewidths=5,cbar_kws={'shrink':.5})"
   ]
  },
  {
   "cell_type": "code",
   "execution_count": 148,
   "metadata": {},
   "outputs": [],
   "source": [
    "#Not highly correlated , thus independent variables"
   ]
  },
  {
   "cell_type": "markdown",
   "metadata": {},
   "source": [
    "# Feature Engineering - response variable"
   ]
  },
  {
   "cell_type": "markdown",
   "metadata": {},
   "source": [
    "* Fine tune response variable\n",
    "* decide cutoff for response variable\n",
    "* this time based limit is important so that you can validate your model later\n",
    "* If time limit is lifetime enrollment, you need to wait forever to find out if your model was right or not\n",
    "\n"
   ]
  },
  {
   "cell_type": "code",
   "execution_count": 149,
   "metadata": {},
   "outputs": [
    {
     "data": {
      "text/plain": [
       "user                     int64\n",
       "first_open              object\n",
       "dayofweek                int64\n",
       "hour                     int64\n",
       "age                      int64\n",
       "screen_list             object\n",
       "numscreens               int64\n",
       "minigame                 int64\n",
       "used_premium_feature     int64\n",
       "enrolled                 int64\n",
       "enrolled_date           object\n",
       "liked                    int64\n",
       "dtype: object"
      ]
     },
     "execution_count": 149,
     "metadata": {},
     "output_type": "execute_result"
    }
   ],
   "source": [
    "data.dtypes"
   ]
  },
  {
   "cell_type": "code",
   "execution_count": 150,
   "metadata": {},
   "outputs": [],
   "source": [
    "data['first_open']=[parser.parse(row_data) for row_data in data['first_open']]"
   ]
  },
  {
   "cell_type": "code",
   "execution_count": 151,
   "metadata": {},
   "outputs": [],
   "source": [
    "data['enrolled_date']=[parser.parse(row_data) if isinstance(row_data,str) else row_data for row_data in data['enrolled_date']]"
   ]
  },
  {
   "cell_type": "code",
   "execution_count": 152,
   "metadata": {},
   "outputs": [],
   "source": [
    "#Difference in hours\n",
    "data['difference']=(data['enrolled_date']-data['first_open']).astype('timedelta64[h]')"
   ]
  },
  {
   "cell_type": "code",
   "execution_count": 153,
   "metadata": {},
   "outputs": [
    {
     "data": {
      "image/png": "[encoded data removed]",
      "text/plain": [
       "<Figure size 720x576 with 1 Axes>"
      ]
     },
     "metadata": {},
     "output_type": "display_data"
    }
   ],
   "source": [
    "plt.figure(figsize=(10,8))\n",
    "plt.hist(data['difference'].dropna(),color='#3F5D7D')\n",
    "plt.title('Distribution of Time since Enrolled /Difference');"
   ]
  },
  {
   "cell_type": "code",
   "execution_count": 154,
   "metadata": {},
   "outputs": [
    {
     "data": {
      "image/png": "[encoded data removed]",
      "text/plain": [
       "<Figure size 720x576 with 1 Axes>"
      ]
     },
     "metadata": {},
     "output_type": "display_data"
    }
   ],
   "source": [
    "#Most enrolled in 500 hours!\n",
    "#Lets dig again\n",
    "plt.figure(figsize=(10,8))\n",
    "plt.hist(data['difference'].dropna(),color='#3F5D7D',range=[0,100])\n",
    "plt.title('Distribution of Time since Enrolled /Difference');"
   ]
  },
  {
   "cell_type": "code",
   "execution_count": 155,
   "metadata": {},
   "outputs": [],
   "source": [
    "#Most enrolled in first 10 hours and some upto 80 hours"
   ]
  },
  {
   "cell_type": "code",
   "execution_count": 156,
   "metadata": {},
   "outputs": [],
   "source": [
    "#Cutoff could be 48 hours"
   ]
  },
  {
   "cell_type": "code",
   "execution_count": 157,
   "metadata": {},
   "outputs": [],
   "source": [
    "data.loc[data.difference>48,'enrolled']=0"
   ]
  },
  {
   "cell_type": "code",
   "execution_count": 158,
   "metadata": {},
   "outputs": [],
   "source": [
    "# So we have a response variable of who enrolled in 48 hours"
   ]
  },
  {
   "cell_type": "code",
   "execution_count": 159,
   "metadata": {},
   "outputs": [],
   "source": [
    "data.drop(columns=['difference','enrolled_date','first_open'],inplace=True)"
   ]
  },
  {
   "cell_type": "code",
   "execution_count": 160,
   "metadata": {},
   "outputs": [
    {
     "data": {
      "text/html": [
       "<div>\n",
       "<style scoped>\n",
       "    .dataframe tbody tr th:only-of-type {\n",
       "        vertical-align: middle;\n",
       "    }\n",
       "\n",
       "    .dataframe tbody tr th {\n",
       "        vertical-align: top;\n",
       "    }\n",
       "\n",
       "    .dataframe thead th {\n",
       "        text-align: right;\n",
       "    }\n",
       "</style>\n",
       "<table border=\"1\" class=\"dataframe\">\n",
       "  <thead>\n",
       "    <tr style=\"text-align: right;\">\n",
       "      <th></th>\n",
       "      <th>user</th>\n",
       "      <th>dayofweek</th>\n",
       "      <th>hour</th>\n",
       "      <th>age</th>\n",
       "      <th>screen_list</th>\n",
       "      <th>numscreens</th>\n",
       "      <th>minigame</th>\n",
       "      <th>used_premium_feature</th>\n",
       "      <th>enrolled</th>\n",
       "      <th>liked</th>\n",
       "    </tr>\n",
       "  </thead>\n",
       "  <tbody>\n",
       "    <tr>\n",
       "      <th>0</th>\n",
       "      <td>235136</td>\n",
       "      <td>3</td>\n",
       "      <td>2</td>\n",
       "      <td>23</td>\n",
       "      <td>idscreen,joinscreen,Cycle,product_review,ScanP...</td>\n",
       "      <td>15</td>\n",
       "      <td>0</td>\n",
       "      <td>0</td>\n",
       "      <td>0</td>\n",
       "      <td>0</td>\n",
       "    </tr>\n",
       "    <tr>\n",
       "      <th>1</th>\n",
       "      <td>333588</td>\n",
       "      <td>6</td>\n",
       "      <td>1</td>\n",
       "      <td>24</td>\n",
       "      <td>joinscreen,product_review,product_review2,Scan...</td>\n",
       "      <td>13</td>\n",
       "      <td>0</td>\n",
       "      <td>0</td>\n",
       "      <td>0</td>\n",
       "      <td>0</td>\n",
       "    </tr>\n",
       "    <tr>\n",
       "      <th>2</th>\n",
       "      <td>254414</td>\n",
       "      <td>1</td>\n",
       "      <td>19</td>\n",
       "      <td>23</td>\n",
       "      <td>Splash,Cycle,Loan</td>\n",
       "      <td>3</td>\n",
       "      <td>0</td>\n",
       "      <td>1</td>\n",
       "      <td>0</td>\n",
       "      <td>1</td>\n",
       "    </tr>\n",
       "    <tr>\n",
       "      <th>3</th>\n",
       "      <td>234192</td>\n",
       "      <td>4</td>\n",
       "      <td>16</td>\n",
       "      <td>28</td>\n",
       "      <td>product_review,Home,product_review,Loan3,Finan...</td>\n",
       "      <td>40</td>\n",
       "      <td>0</td>\n",
       "      <td>0</td>\n",
       "      <td>1</td>\n",
       "      <td>0</td>\n",
       "    </tr>\n",
       "    <tr>\n",
       "      <th>4</th>\n",
       "      <td>51549</td>\n",
       "      <td>1</td>\n",
       "      <td>18</td>\n",
       "      <td>31</td>\n",
       "      <td>idscreen,joinscreen,Cycle,Credit3Container,Sca...</td>\n",
       "      <td>32</td>\n",
       "      <td>0</td>\n",
       "      <td>0</td>\n",
       "      <td>1</td>\n",
       "      <td>1</td>\n",
       "    </tr>\n",
       "    <tr>\n",
       "      <th>...</th>\n",
       "      <td>...</td>\n",
       "      <td>...</td>\n",
       "      <td>...</td>\n",
       "      <td>...</td>\n",
       "      <td>...</td>\n",
       "      <td>...</td>\n",
       "      <td>...</td>\n",
       "      <td>...</td>\n",
       "      <td>...</td>\n",
       "      <td>...</td>\n",
       "    </tr>\n",
       "    <tr>\n",
       "      <th>49995</th>\n",
       "      <td>222774</td>\n",
       "      <td>3</td>\n",
       "      <td>13</td>\n",
       "      <td>32</td>\n",
       "      <td>Splash,Home,ScanPreview,VerifyPhone,VerifySSN,...</td>\n",
       "      <td>13</td>\n",
       "      <td>0</td>\n",
       "      <td>0</td>\n",
       "      <td>1</td>\n",
       "      <td>0</td>\n",
       "    </tr>\n",
       "    <tr>\n",
       "      <th>49996</th>\n",
       "      <td>169179</td>\n",
       "      <td>1</td>\n",
       "      <td>0</td>\n",
       "      <td>35</td>\n",
       "      <td>Cycle,Splash,Home,RewardsContainer</td>\n",
       "      <td>4</td>\n",
       "      <td>0</td>\n",
       "      <td>1</td>\n",
       "      <td>0</td>\n",
       "      <td>0</td>\n",
       "    </tr>\n",
       "    <tr>\n",
       "      <th>49997</th>\n",
       "      <td>302367</td>\n",
       "      <td>2</td>\n",
       "      <td>22</td>\n",
       "      <td>39</td>\n",
       "      <td>joinscreen,product_review,product_review2,Scan...</td>\n",
       "      <td>25</td>\n",
       "      <td>0</td>\n",
       "      <td>0</td>\n",
       "      <td>0</td>\n",
       "      <td>0</td>\n",
       "    </tr>\n",
       "    <tr>\n",
       "      <th>49998</th>\n",
       "      <td>324905</td>\n",
       "      <td>6</td>\n",
       "      <td>12</td>\n",
       "      <td>27</td>\n",
       "      <td>Cycle,Home,product_review,product_review,produ...</td>\n",
       "      <td>26</td>\n",
       "      <td>0</td>\n",
       "      <td>0</td>\n",
       "      <td>1</td>\n",
       "      <td>0</td>\n",
       "    </tr>\n",
       "    <tr>\n",
       "      <th>49999</th>\n",
       "      <td>27047</td>\n",
       "      <td>4</td>\n",
       "      <td>1</td>\n",
       "      <td>25</td>\n",
       "      <td>product_review,ScanPreview,VerifyDateOfBirth,V...</td>\n",
       "      <td>26</td>\n",
       "      <td>0</td>\n",
       "      <td>0</td>\n",
       "      <td>0</td>\n",
       "      <td>1</td>\n",
       "    </tr>\n",
       "  </tbody>\n",
       "</table>\n",
       "<p>50000 rows × 10 columns</p>\n",
       "</div>"
      ],
      "text/plain": [
       "         user  dayofweek  hour  age  \\\n",
       "0      235136          3     2   23   \n",
       "1      333588          6     1   24   \n",
       "2      254414          1    19   23   \n",
       "3      234192          4    16   28   \n",
       "4       51549          1    18   31   \n",
       "...       ...        ...   ...  ...   \n",
       "49995  222774          3    13   32   \n",
       "49996  169179          1     0   35   \n",
       "49997  302367          2    22   39   \n",
       "49998  324905          6    12   27   \n",
       "49999   27047          4     1   25   \n",
       "\n",
       "                                             screen_list  numscreens  \\\n",
       "0      idscreen,joinscreen,Cycle,product_review,ScanP...          15   \n",
       "1      joinscreen,product_review,product_review2,Scan...          13   \n",
       "2                                      Splash,Cycle,Loan           3   \n",
       "3      product_review,Home,product_review,Loan3,Finan...          40   \n",
       "4      idscreen,joinscreen,Cycle,Credit3Container,Sca...          32   \n",
       "...                                                  ...         ...   \n",
       "49995  Splash,Home,ScanPreview,VerifyPhone,VerifySSN,...          13   \n",
       "49996                 Cycle,Splash,Home,RewardsContainer           4   \n",
       "49997  joinscreen,product_review,product_review2,Scan...          25   \n",
       "49998  Cycle,Home,product_review,product_review,produ...          26   \n",
       "49999  product_review,ScanPreview,VerifyDateOfBirth,V...          26   \n",
       "\n",
       "       minigame  used_premium_feature  enrolled  liked  \n",
       "0             0                     0         0      0  \n",
       "1             0                     0         0      0  \n",
       "2             0                     1         0      1  \n",
       "3             0                     0         1      0  \n",
       "4             0                     0         1      1  \n",
       "...         ...                   ...       ...    ...  \n",
       "49995         0                     0         1      0  \n",
       "49996         0                     1         0      0  \n",
       "49997         0                     0         0      0  \n",
       "49998         0                     0         1      0  \n",
       "49999         0                     0         0      1  \n",
       "\n",
       "[50000 rows x 10 columns]"
      ]
     },
     "execution_count": 160,
     "metadata": {},
     "output_type": "execute_result"
    }
   ],
   "source": [
    "data"
   ]
  },
  {
   "cell_type": "markdown",
   "metadata": {},
   "source": [
    "# Feature Engineering - Features"
   ]
  },
  {
   "cell_type": "markdown",
   "metadata": {},
   "source": [
    "* Screen_list need to be made model suitable\n",
    "* One hot encoding is an option but cant be done since it will increase dimensionality\n",
    "* Based on expert advice, we select only the important screen items"
   ]
  },
  {
   "cell_type": "code",
   "execution_count": 161,
   "metadata": {},
   "outputs": [],
   "source": [
    "top_screen=pd.read_csv('top_screens.csv').top_screens.values"
   ]
  },
  {
   "cell_type": "code",
   "execution_count": 162,
   "metadata": {},
   "outputs": [],
   "source": [
    "data['screen_list']=data['screen_list'].astype('str')+',' \n",
    "# extra comma makes number of commas = number of screens"
   ]
  },
  {
   "cell_type": "code",
   "execution_count": 163,
   "metadata": {},
   "outputs": [],
   "source": [
    "#create column for each top screen\n",
    "#contains Returns boolean, we need 1 /0 integer\n",
    "for sc in top_screen:\n",
    "    data[sc]=data.screen_list.str.contains(sc).astype('int')\n",
    "    data['screen_list']=data.screen_list.str.replace(sc+',','')"
   ]
  },
  {
   "cell_type": "code",
   "execution_count": 164,
   "metadata": {},
   "outputs": [
    {
     "data": {
      "text/plain": [
       "Index(['user', 'dayofweek', 'hour', 'age', 'screen_list', 'numscreens',\n",
       "       'minigame', 'used_premium_feature', 'enrolled', 'liked', 'Loan2',\n",
       "       'location', 'Institutions', 'Credit3Container', 'VerifyPhone',\n",
       "       'BankVerification', 'VerifyDateOfBirth', 'ProfilePage', 'VerifyCountry',\n",
       "       'Cycle', 'idscreen', 'Credit3Dashboard', 'Loan3', 'CC1Category',\n",
       "       'Splash', 'Loan', 'CC1', 'RewardsContainer', 'Credit3', 'Credit1',\n",
       "       'EditProfile', 'Credit2', 'Finances', 'CC3', 'Saving9', 'Saving1',\n",
       "       'Alerts', 'Saving8', 'Saving10', 'Leaderboard', 'Saving4',\n",
       "       'VerifyMobile', 'VerifyHousing', 'RewardDetail', 'VerifyHousingAmount',\n",
       "       'ProfileMaritalStatus', 'ProfileChildren ', 'ProfileEducation',\n",
       "       'Saving7', 'ProfileEducationMajor', 'Rewards', 'AccountView',\n",
       "       'VerifyAnnualIncome', 'VerifyIncomeType', 'Saving2', 'Saving6',\n",
       "       'Saving2Amount', 'Saving5', 'ProfileJobTitle', 'Login',\n",
       "       'ProfileEmploymentLength', 'WebView', 'SecurityModal', 'Loan4',\n",
       "       'ResendToken', 'TransactionList', 'NetworkFailure', 'ListPicker'],\n",
       "      dtype='object')"
      ]
     },
     "execution_count": 164,
     "metadata": {},
     "output_type": "execute_result"
    }
   ],
   "source": [
    "data.columns"
   ]
  },
  {
   "cell_type": "code",
   "execution_count": 165,
   "metadata": {},
   "outputs": [],
   "source": [
    "#Now we are left with columns not in top list\n",
    "#we count comma\n",
    "data['other']=data.screen_list.str.count(',')"
   ]
  },
  {
   "cell_type": "code",
   "execution_count": 166,
   "metadata": {},
   "outputs": [],
   "source": [
    "data.drop(columns=['screen_list'],inplace=True)"
   ]
  },
  {
   "cell_type": "code",
   "execution_count": 167,
   "metadata": {},
   "outputs": [],
   "source": [
    "#Funnels\n",
    "# Group all screens that are strongly correlated\n",
    "# Merge into one column"
   ]
  },
  {
   "cell_type": "code",
   "execution_count": 168,
   "metadata": {},
   "outputs": [],
   "source": [
    "cm_screens=data.columns[data.columns.str.contains('Credit')]"
   ]
  },
  {
   "cell_type": "code",
   "execution_count": 169,
   "metadata": {},
   "outputs": [],
   "source": [
    "cc_screens=data.columns[data.columns.str.contains('CC')]"
   ]
  },
  {
   "cell_type": "code",
   "execution_count": 170,
   "metadata": {},
   "outputs": [],
   "source": [
    "loan_screens=data.columns[data.columns.str.contains('Loan')]"
   ]
  },
  {
   "cell_type": "code",
   "execution_count": 171,
   "metadata": {},
   "outputs": [],
   "source": [
    "savings_screen=data.columns[data.columns.str.contains('Saving')]"
   ]
  },
  {
   "cell_type": "code",
   "execution_count": 172,
   "metadata": {},
   "outputs": [],
   "source": [
    "data['CM_count']=data[cm_screens].sum(axis=1) #Row wise Sum"
   ]
  },
  {
   "cell_type": "code",
   "execution_count": 173,
   "metadata": {},
   "outputs": [],
   "source": [
    "data['CC_count']=data[cc_screens].sum(axis=1)"
   ]
  },
  {
   "cell_type": "code",
   "execution_count": 174,
   "metadata": {},
   "outputs": [],
   "source": [
    "data['Loan_count']=data[loan_screens].sum(axis=1)"
   ]
  },
  {
   "cell_type": "code",
   "execution_count": 175,
   "metadata": {},
   "outputs": [],
   "source": [
    "data['Savings_screen']=data[savings_screen].sum(axis=1)"
   ]
  },
  {
   "cell_type": "code",
   "execution_count": 176,
   "metadata": {},
   "outputs": [],
   "source": [
    "import itertools\n",
    "not_needed=list(itertools.chain(cm_screens,cc_screens,loan_screens,savings_screen))"
   ]
  },
  {
   "cell_type": "code",
   "execution_count": 177,
   "metadata": {},
   "outputs": [],
   "source": [
    "data.drop(columns=not_needed,inplace=True)"
   ]
  },
  {
   "cell_type": "code",
   "execution_count": 178,
   "metadata": {},
   "outputs": [
    {
     "data": {
      "text/plain": [
       "(50000, 50)"
      ]
     },
     "execution_count": 178,
     "metadata": {},
     "output_type": "execute_result"
    }
   ],
   "source": [
    "data.shape"
   ]
  },
  {
   "cell_type": "code",
   "execution_count": 179,
   "metadata": {},
   "outputs": [
    {
     "data": {
      "text/plain": [
       "Index(['user', 'dayofweek', 'hour', 'age', 'numscreens', 'minigame',\n",
       "       'used_premium_feature', 'enrolled', 'liked', 'location', 'Institutions',\n",
       "       'VerifyPhone', 'BankVerification', 'VerifyDateOfBirth', 'ProfilePage',\n",
       "       'VerifyCountry', 'Cycle', 'idscreen', 'Splash', 'RewardsContainer',\n",
       "       'EditProfile', 'Finances', 'Alerts', 'Leaderboard', 'VerifyMobile',\n",
       "       'VerifyHousing', 'RewardDetail', 'VerifyHousingAmount',\n",
       "       'ProfileMaritalStatus', 'ProfileChildren ', 'ProfileEducation',\n",
       "       'ProfileEducationMajor', 'Rewards', 'AccountView', 'VerifyAnnualIncome',\n",
       "       'VerifyIncomeType', 'ProfileJobTitle', 'Login',\n",
       "       'ProfileEmploymentLength', 'WebView', 'SecurityModal', 'ResendToken',\n",
       "       'TransactionList', 'NetworkFailure', 'ListPicker', 'other', 'CM_count',\n",
       "       'CC_count', 'Loan_count', 'Savings_screen'],\n",
       "      dtype='object')"
      ]
     },
     "execution_count": 179,
     "metadata": {},
     "output_type": "execute_result"
    }
   ],
   "source": [
    "data.columns"
   ]
  },
  {
   "cell_type": "code",
   "execution_count": 180,
   "metadata": {},
   "outputs": [],
   "source": [
    "data.to_csv('new_app_data.csv',index=False)"
   ]
  },
  {
   "cell_type": "markdown",
   "metadata": {},
   "source": [
    "# Data Preprocessing"
   ]
  },
  {
   "cell_type": "code",
   "execution_count": 181,
   "metadata": {},
   "outputs": [
    {
     "name": "stdout",
     "output_type": "stream",
     "text": [
      "<class 'pandas.core.frame.DataFrame'>\n",
      "RangeIndex: 50000 entries, 0 to 49999\n",
      "Data columns (total 50 columns):\n",
      " #   Column                   Non-Null Count  Dtype\n",
      "---  ------                   --------------  -----\n",
      " 0   user                     50000 non-null  int64\n",
      " 1   dayofweek                50000 non-null  int64\n",
      " 2   hour                     50000 non-null  int64\n",
      " 3   age                      50000 non-null  int64\n",
      " 4   numscreens               50000 non-null  int64\n",
      " 5   minigame                 50000 non-null  int64\n",
      " 6   used_premium_feature     50000 non-null  int64\n",
      " 7   enrolled                 50000 non-null  int64\n",
      " 8   liked                    50000 non-null  int64\n",
      " 9   location                 50000 non-null  int64\n",
      " 10  Institutions             50000 non-null  int64\n",
      " 11  VerifyPhone              50000 non-null  int64\n",
      " 12  BankVerification         50000 non-null  int64\n",
      " 13  VerifyDateOfBirth        50000 non-null  int64\n",
      " 14  ProfilePage              50000 non-null  int64\n",
      " 15  VerifyCountry            50000 non-null  int64\n",
      " 16  Cycle                    50000 non-null  int64\n",
      " 17  idscreen                 50000 non-null  int64\n",
      " 18  Splash                   50000 non-null  int64\n",
      " 19  RewardsContainer         50000 non-null  int64\n",
      " 20  EditProfile              50000 non-null  int64\n",
      " 21  Finances                 50000 non-null  int64\n",
      " 22  Alerts                   50000 non-null  int64\n",
      " 23  Leaderboard              50000 non-null  int64\n",
      " 24  VerifyMobile             50000 non-null  int64\n",
      " 25  VerifyHousing            50000 non-null  int64\n",
      " 26  RewardDetail             50000 non-null  int64\n",
      " 27  VerifyHousingAmount      50000 non-null  int64\n",
      " 28  ProfileMaritalStatus     50000 non-null  int64\n",
      " 29  ProfileChildren          50000 non-null  int64\n",
      " 30  ProfileEducation         50000 non-null  int64\n",
      " 31  ProfileEducationMajor    50000 non-null  int64\n",
      " 32  Rewards                  50000 non-null  int64\n",
      " 33  AccountView              50000 non-null  int64\n",
      " 34  VerifyAnnualIncome       50000 non-null  int64\n",
      " 35  VerifyIncomeType         50000 non-null  int64\n",
      " 36  ProfileJobTitle          50000 non-null  int64\n",
      " 37  Login                    50000 non-null  int64\n",
      " 38  ProfileEmploymentLength  50000 non-null  int64\n",
      " 39  WebView                  50000 non-null  int64\n",
      " 40  SecurityModal            50000 non-null  int64\n",
      " 41  ResendToken              50000 non-null  int64\n",
      " 42  TransactionList          50000 non-null  int64\n",
      " 43  NetworkFailure           50000 non-null  int64\n",
      " 44  ListPicker               50000 non-null  int64\n",
      " 45  other                    50000 non-null  int64\n",
      " 46  CM_count                 50000 non-null  int64\n",
      " 47  CC_count                 50000 non-null  int64\n",
      " 48  Loan_count               50000 non-null  int64\n",
      " 49  Savings_screen           50000 non-null  int64\n",
      "dtypes: int64(50)\n",
      "memory usage: 19.1 MB\n"
     ]
    }
   ],
   "source": [
    "data.info()"
   ]
  },
  {
   "cell_type": "code",
   "execution_count": 182,
   "metadata": {},
   "outputs": [],
   "source": [
    "response=data['enrolled']"
   ]
  },
  {
   "cell_type": "code",
   "execution_count": 183,
   "metadata": {},
   "outputs": [],
   "source": [
    "data=data.drop(columns=['enrolled'])"
   ]
  },
  {
   "cell_type": "code",
   "execution_count": 184,
   "metadata": {},
   "outputs": [],
   "source": [
    "#Split in train test\n",
    "from sklearn.model_selection import train_test_split"
   ]
  },
  {
   "cell_type": "code",
   "execution_count": 185,
   "metadata": {},
   "outputs": [],
   "source": [
    "X_train,X_test,y_train,y_test=train_test_split(data,response,test_size=0.2)"
   ]
  },
  {
   "cell_type": "code",
   "execution_count": 186,
   "metadata": {},
   "outputs": [
    {
     "data": {
      "text/plain": [
       "(40000, 49)"
      ]
     },
     "execution_count": 186,
     "metadata": {},
     "output_type": "execute_result"
    }
   ],
   "source": [
    "X_train.shape"
   ]
  },
  {
   "cell_type": "code",
   "execution_count": 187,
   "metadata": {},
   "outputs": [
    {
     "data": {
      "text/plain": [
       "(10000, 49)"
      ]
     },
     "execution_count": 187,
     "metadata": {},
     "output_type": "execute_result"
    }
   ],
   "source": [
    "X_test.shape"
   ]
  },
  {
   "cell_type": "code",
   "execution_count": 188,
   "metadata": {},
   "outputs": [],
   "source": [
    "#Remove user id but we would need it later & thus, save it\n",
    "train_identifier=X_train['user']\n",
    "test_identifier=X_test['user']"
   ]
  },
  {
   "cell_type": "code",
   "execution_count": 189,
   "metadata": {},
   "outputs": [],
   "source": [
    "X_train=X_train.drop(columns=['user'])\n",
    "X_test=X_test.drop(columns=['user'])"
   ]
  },
  {
   "cell_type": "code",
   "execution_count": 190,
   "metadata": {},
   "outputs": [],
   "source": [
    "#Feature scaling\n",
    "from sklearn.preprocessing import StandardScaler"
   ]
  },
  {
   "cell_type": "code",
   "execution_count": 191,
   "metadata": {},
   "outputs": [],
   "source": [
    "sc=StandardScaler()"
   ]
  },
  {
   "cell_type": "code",
   "execution_count": 192,
   "metadata": {},
   "outputs": [],
   "source": [
    "#But we need to keep index and columns not be lost in arrays\n",
    "X_train2=pd.DataFrame(sc.fit_transform(X_train))"
   ]
  },
  {
   "cell_type": "code",
   "execution_count": 193,
   "metadata": {},
   "outputs": [],
   "source": [
    "X_test2=pd.DataFrame(sc.transform(X_test))"
   ]
  },
  {
   "cell_type": "code",
   "execution_count": 194,
   "metadata": {},
   "outputs": [],
   "source": [
    "X_train2.columns,X_test2.columns=X_train.columns,X_test.columns"
   ]
  },
  {
   "cell_type": "code",
   "execution_count": 195,
   "metadata": {},
   "outputs": [],
   "source": [
    "#Take index from original\n",
    "X_train2.index=X_train.index.values"
   ]
  },
  {
   "cell_type": "code",
   "execution_count": 196,
   "metadata": {},
   "outputs": [],
   "source": [
    "X_test2.index=X_test.index.values"
   ]
  },
  {
   "cell_type": "code",
   "execution_count": 197,
   "metadata": {},
   "outputs": [],
   "source": [
    "#Old to NEw\n",
    "X_train=X_train2\n",
    "X_test=X_test2"
   ]
  },
  {
   "cell_type": "code",
   "execution_count": 198,
   "metadata": {},
   "outputs": [
    {
     "data": {
      "text/html": [
       "<div>\n",
       "<style scoped>\n",
       "    .dataframe tbody tr th:only-of-type {\n",
       "        vertical-align: middle;\n",
       "    }\n",
       "\n",
       "    .dataframe tbody tr th {\n",
       "        vertical-align: top;\n",
       "    }\n",
       "\n",
       "    .dataframe thead th {\n",
       "        text-align: right;\n",
       "    }\n",
       "</style>\n",
       "<table border=\"1\" class=\"dataframe\">\n",
       "  <thead>\n",
       "    <tr style=\"text-align: right;\">\n",
       "      <th></th>\n",
       "      <th>dayofweek</th>\n",
       "      <th>hour</th>\n",
       "      <th>age</th>\n",
       "      <th>numscreens</th>\n",
       "      <th>minigame</th>\n",
       "      <th>used_premium_feature</th>\n",
       "      <th>liked</th>\n",
       "      <th>location</th>\n",
       "      <th>Institutions</th>\n",
       "      <th>VerifyPhone</th>\n",
       "      <th>...</th>\n",
       "      <th>SecurityModal</th>\n",
       "      <th>ResendToken</th>\n",
       "      <th>TransactionList</th>\n",
       "      <th>NetworkFailure</th>\n",
       "      <th>ListPicker</th>\n",
       "      <th>other</th>\n",
       "      <th>CM_count</th>\n",
       "      <th>CC_count</th>\n",
       "      <th>Loan_count</th>\n",
       "      <th>Savings_screen</th>\n",
       "    </tr>\n",
       "  </thead>\n",
       "  <tbody>\n",
       "    <tr>\n",
       "      <th>32896</th>\n",
       "      <td>0.477941</td>\n",
       "      <td>-1.690411</td>\n",
       "      <td>0.116421</td>\n",
       "      <td>-0.326602</td>\n",
       "      <td>-0.349133</td>\n",
       "      <td>-0.457013</td>\n",
       "      <td>-0.444165</td>\n",
       "      <td>0.963708</td>\n",
       "      <td>1.550660</td>\n",
       "      <td>0.949665</td>\n",
       "      <td>...</td>\n",
       "      <td>-0.121828</td>\n",
       "      <td>-0.115435</td>\n",
       "      <td>-0.11599</td>\n",
       "      <td>-0.092177</td>\n",
       "      <td>-0.088233</td>\n",
       "      <td>-0.333215</td>\n",
       "      <td>0.056226</td>\n",
       "      <td>-0.289377</td>\n",
       "      <td>0.313702</td>\n",
       "      <td>-0.259834</td>\n",
       "    </tr>\n",
       "    <tr>\n",
       "      <th>40331</th>\n",
       "      <td>-1.490870</td>\n",
       "      <td>-1.421211</td>\n",
       "      <td>-1.456394</td>\n",
       "      <td>-0.453946</td>\n",
       "      <td>-0.349133</td>\n",
       "      <td>-0.457013</td>\n",
       "      <td>-0.444165</td>\n",
       "      <td>0.963708</td>\n",
       "      <td>-0.644887</td>\n",
       "      <td>0.949665</td>\n",
       "      <td>...</td>\n",
       "      <td>-0.121828</td>\n",
       "      <td>-0.115435</td>\n",
       "      <td>-0.11599</td>\n",
       "      <td>-0.092177</td>\n",
       "      <td>-0.088233</td>\n",
       "      <td>0.211543</td>\n",
       "      <td>-0.763393</td>\n",
       "      <td>-0.289377</td>\n",
       "      <td>0.313702</td>\n",
       "      <td>-0.259834</td>\n",
       "    </tr>\n",
       "    <tr>\n",
       "      <th>32375</th>\n",
       "      <td>0.970144</td>\n",
       "      <td>1.001594</td>\n",
       "      <td>-0.901283</td>\n",
       "      <td>0.564809</td>\n",
       "      <td>-0.349133</td>\n",
       "      <td>-0.457013</td>\n",
       "      <td>-0.444165</td>\n",
       "      <td>0.963708</td>\n",
       "      <td>1.550660</td>\n",
       "      <td>0.949665</td>\n",
       "      <td>...</td>\n",
       "      <td>-0.121828</td>\n",
       "      <td>-0.115435</td>\n",
       "      <td>-0.11599</td>\n",
       "      <td>-0.092177</td>\n",
       "      <td>-0.088233</td>\n",
       "      <td>0.211543</td>\n",
       "      <td>1.695463</td>\n",
       "      <td>-0.289377</td>\n",
       "      <td>0.313702</td>\n",
       "      <td>-0.259834</td>\n",
       "    </tr>\n",
       "    <tr>\n",
       "      <th>17103</th>\n",
       "      <td>-0.506464</td>\n",
       "      <td>1.405395</td>\n",
       "      <td>1.226643</td>\n",
       "      <td>-0.963324</td>\n",
       "      <td>-0.349133</td>\n",
       "      <td>-0.457013</td>\n",
       "      <td>-0.444165</td>\n",
       "      <td>-1.037659</td>\n",
       "      <td>1.550660</td>\n",
       "      <td>-1.053003</td>\n",
       "      <td>...</td>\n",
       "      <td>-0.121828</td>\n",
       "      <td>-0.115435</td>\n",
       "      <td>-0.11599</td>\n",
       "      <td>-0.092177</td>\n",
       "      <td>-0.088233</td>\n",
       "      <td>-1.150353</td>\n",
       "      <td>0.056226</td>\n",
       "      <td>-0.289377</td>\n",
       "      <td>0.313702</td>\n",
       "      <td>-0.259834</td>\n",
       "    </tr>\n",
       "    <tr>\n",
       "      <th>36514</th>\n",
       "      <td>-0.014262</td>\n",
       "      <td>0.193993</td>\n",
       "      <td>0.764050</td>\n",
       "      <td>4.512488</td>\n",
       "      <td>-0.349133</td>\n",
       "      <td>2.188121</td>\n",
       "      <td>-0.444165</td>\n",
       "      <td>0.963708</td>\n",
       "      <td>-0.644887</td>\n",
       "      <td>0.949665</td>\n",
       "      <td>...</td>\n",
       "      <td>-0.121828</td>\n",
       "      <td>-0.115435</td>\n",
       "      <td>-0.11599</td>\n",
       "      <td>-0.092177</td>\n",
       "      <td>-0.088233</td>\n",
       "      <td>0.756302</td>\n",
       "      <td>-0.763393</td>\n",
       "      <td>-0.289377</td>\n",
       "      <td>0.313702</td>\n",
       "      <td>4.729093</td>\n",
       "    </tr>\n",
       "    <tr>\n",
       "      <th>...</th>\n",
       "      <td>...</td>\n",
       "      <td>...</td>\n",
       "      <td>...</td>\n",
       "      <td>...</td>\n",
       "      <td>...</td>\n",
       "      <td>...</td>\n",
       "      <td>...</td>\n",
       "      <td>...</td>\n",
       "      <td>...</td>\n",
       "      <td>...</td>\n",
       "      <td>...</td>\n",
       "      <td>...</td>\n",
       "      <td>...</td>\n",
       "      <td>...</td>\n",
       "      <td>...</td>\n",
       "      <td>...</td>\n",
       "      <td>...</td>\n",
       "      <td>...</td>\n",
       "      <td>...</td>\n",
       "      <td>...</td>\n",
       "      <td>...</td>\n",
       "    </tr>\n",
       "    <tr>\n",
       "      <th>9918</th>\n",
       "      <td>1.462347</td>\n",
       "      <td>0.597794</td>\n",
       "      <td>0.486495</td>\n",
       "      <td>2.474976</td>\n",
       "      <td>-0.349133</td>\n",
       "      <td>-0.457013</td>\n",
       "      <td>-0.444165</td>\n",
       "      <td>-1.037659</td>\n",
       "      <td>1.550660</td>\n",
       "      <td>-1.053003</td>\n",
       "      <td>...</td>\n",
       "      <td>-0.121828</td>\n",
       "      <td>-0.115435</td>\n",
       "      <td>-0.11599</td>\n",
       "      <td>-0.092177</td>\n",
       "      <td>-0.088233</td>\n",
       "      <td>-0.060836</td>\n",
       "      <td>1.695463</td>\n",
       "      <td>-0.289377</td>\n",
       "      <td>1.793429</td>\n",
       "      <td>-0.259834</td>\n",
       "    </tr>\n",
       "    <tr>\n",
       "      <th>5830</th>\n",
       "      <td>-0.506464</td>\n",
       "      <td>0.866994</td>\n",
       "      <td>1.874273</td>\n",
       "      <td>-1.281685</td>\n",
       "      <td>-0.349133</td>\n",
       "      <td>-0.457013</td>\n",
       "      <td>-0.444165</td>\n",
       "      <td>-1.037659</td>\n",
       "      <td>-0.644887</td>\n",
       "      <td>-1.053003</td>\n",
       "      <td>...</td>\n",
       "      <td>-0.121828</td>\n",
       "      <td>-0.115435</td>\n",
       "      <td>-0.11599</td>\n",
       "      <td>-0.092177</td>\n",
       "      <td>-0.088233</td>\n",
       "      <td>-1.422733</td>\n",
       "      <td>-0.763393</td>\n",
       "      <td>-0.289377</td>\n",
       "      <td>-1.166025</td>\n",
       "      <td>-0.259834</td>\n",
       "    </tr>\n",
       "    <tr>\n",
       "      <th>27028</th>\n",
       "      <td>1.462347</td>\n",
       "      <td>0.866994</td>\n",
       "      <td>0.116421</td>\n",
       "      <td>-0.963324</td>\n",
       "      <td>-0.349133</td>\n",
       "      <td>-0.457013</td>\n",
       "      <td>-0.444165</td>\n",
       "      <td>-1.037659</td>\n",
       "      <td>1.550660</td>\n",
       "      <td>-1.053003</td>\n",
       "      <td>...</td>\n",
       "      <td>-0.121828</td>\n",
       "      <td>-0.115435</td>\n",
       "      <td>-0.11599</td>\n",
       "      <td>-0.092177</td>\n",
       "      <td>-0.088233</td>\n",
       "      <td>-1.422733</td>\n",
       "      <td>0.056226</td>\n",
       "      <td>-0.289377</td>\n",
       "      <td>-1.166025</td>\n",
       "      <td>1.165574</td>\n",
       "    </tr>\n",
       "    <tr>\n",
       "      <th>43657</th>\n",
       "      <td>-0.998667</td>\n",
       "      <td>1.136195</td>\n",
       "      <td>-0.346172</td>\n",
       "      <td>-1.218013</td>\n",
       "      <td>-0.349133</td>\n",
       "      <td>-0.457013</td>\n",
       "      <td>-0.444165</td>\n",
       "      <td>-1.037659</td>\n",
       "      <td>-0.644887</td>\n",
       "      <td>-1.053003</td>\n",
       "      <td>...</td>\n",
       "      <td>-0.121828</td>\n",
       "      <td>-0.115435</td>\n",
       "      <td>-0.11599</td>\n",
       "      <td>-0.092177</td>\n",
       "      <td>-0.088233</td>\n",
       "      <td>-1.695112</td>\n",
       "      <td>-0.763393</td>\n",
       "      <td>-0.289377</td>\n",
       "      <td>-1.166025</td>\n",
       "      <td>-0.259834</td>\n",
       "    </tr>\n",
       "    <tr>\n",
       "      <th>33897</th>\n",
       "      <td>0.970144</td>\n",
       "      <td>-0.209808</td>\n",
       "      <td>-0.623728</td>\n",
       "      <td>-0.262930</td>\n",
       "      <td>-0.349133</td>\n",
       "      <td>-0.457013</td>\n",
       "      <td>-0.444165</td>\n",
       "      <td>0.963708</td>\n",
       "      <td>-0.644887</td>\n",
       "      <td>-1.053003</td>\n",
       "      <td>...</td>\n",
       "      <td>-0.121828</td>\n",
       "      <td>-0.115435</td>\n",
       "      <td>-0.11599</td>\n",
       "      <td>-0.092177</td>\n",
       "      <td>-0.088233</td>\n",
       "      <td>1.028681</td>\n",
       "      <td>-0.763393</td>\n",
       "      <td>-0.289377</td>\n",
       "      <td>1.793429</td>\n",
       "      <td>-0.259834</td>\n",
       "    </tr>\n",
       "  </tbody>\n",
       "</table>\n",
       "<p>10000 rows × 48 columns</p>\n",
       "</div>"
      ],
      "text/plain": [
       "       dayofweek      hour       age  numscreens  minigame  \\\n",
       "32896   0.477941 -1.690411  0.116421   -0.326602 -0.349133   \n",
       "40331  -1.490870 -1.421211 -1.456394   -0.453946 -0.349133   \n",
       "32375   0.970144  1.001594 -0.901283    0.564809 -0.349133   \n",
       "17103  -0.506464  1.405395  1.226643   -0.963324 -0.349133   \n",
       "36514  -0.014262  0.193993  0.764050    4.512488 -0.349133   \n",
       "...          ...       ...       ...         ...       ...   \n",
       "9918    1.462347  0.597794  0.486495    2.474976 -0.349133   \n",
       "5830   -0.506464  0.866994  1.874273   -1.281685 -0.349133   \n",
       "27028   1.462347  0.866994  0.116421   -0.963324 -0.349133   \n",
       "43657  -0.998667  1.136195 -0.346172   -1.218013 -0.349133   \n",
       "33897   0.970144 -0.209808 -0.623728   -0.262930 -0.349133   \n",
       "\n",
       "       used_premium_feature     liked  location  Institutions  VerifyPhone  \\\n",
       "32896             -0.457013 -0.444165  0.963708      1.550660     0.949665   \n",
       "40331             -0.457013 -0.444165  0.963708     -0.644887     0.949665   \n",
       "32375             -0.457013 -0.444165  0.963708      1.550660     0.949665   \n",
       "17103             -0.457013 -0.444165 -1.037659      1.550660    -1.053003   \n",
       "36514              2.188121 -0.444165  0.963708     -0.644887     0.949665   \n",
       "...                     ...       ...       ...           ...          ...   \n",
       "9918              -0.457013 -0.444165 -1.037659      1.550660    -1.053003   \n",
       "5830              -0.457013 -0.444165 -1.037659     -0.644887    -1.053003   \n",
       "27028             -0.457013 -0.444165 -1.037659      1.550660    -1.053003   \n",
       "43657             -0.457013 -0.444165 -1.037659     -0.644887    -1.053003   \n",
       "33897             -0.457013 -0.444165  0.963708     -0.644887    -1.053003   \n",
       "\n",
       "       ...  SecurityModal  ResendToken  TransactionList  NetworkFailure  \\\n",
       "32896  ...      -0.121828    -0.115435         -0.11599       -0.092177   \n",
       "40331  ...      -0.121828    -0.115435         -0.11599       -0.092177   \n",
       "32375  ...      -0.121828    -0.115435         -0.11599       -0.092177   \n",
       "17103  ...      -0.121828    -0.115435         -0.11599       -0.092177   \n",
       "36514  ...      -0.121828    -0.115435         -0.11599       -0.092177   \n",
       "...    ...            ...          ...              ...             ...   \n",
       "9918   ...      -0.121828    -0.115435         -0.11599       -0.092177   \n",
       "5830   ...      -0.121828    -0.115435         -0.11599       -0.092177   \n",
       "27028  ...      -0.121828    -0.115435         -0.11599       -0.092177   \n",
       "43657  ...      -0.121828    -0.115435         -0.11599       -0.092177   \n",
       "33897  ...      -0.121828    -0.115435         -0.11599       -0.092177   \n",
       "\n",
       "       ListPicker     other  CM_count  CC_count  Loan_count  Savings_screen  \n",
       "32896   -0.088233 -0.333215  0.056226 -0.289377    0.313702       -0.259834  \n",
       "40331   -0.088233  0.211543 -0.763393 -0.289377    0.313702       -0.259834  \n",
       "32375   -0.088233  0.211543  1.695463 -0.289377    0.313702       -0.259834  \n",
       "17103   -0.088233 -1.150353  0.056226 -0.289377    0.313702       -0.259834  \n",
       "36514   -0.088233  0.756302 -0.763393 -0.289377    0.313702        4.729093  \n",
       "...           ...       ...       ...       ...         ...             ...  \n",
       "9918    -0.088233 -0.060836  1.695463 -0.289377    1.793429       -0.259834  \n",
       "5830    -0.088233 -1.422733 -0.763393 -0.289377   -1.166025       -0.259834  \n",
       "27028   -0.088233 -1.422733  0.056226 -0.289377   -1.166025        1.165574  \n",
       "43657   -0.088233 -1.695112 -0.763393 -0.289377   -1.166025       -0.259834  \n",
       "33897   -0.088233  1.028681 -0.763393 -0.289377    1.793429       -0.259834  \n",
       "\n",
       "[10000 rows x 48 columns]"
      ]
     },
     "execution_count": 198,
     "metadata": {},
     "output_type": "execute_result"
    }
   ],
   "source": [
    "X_test2"
   ]
  },
  {
   "cell_type": "code",
   "execution_count": 199,
   "metadata": {},
   "outputs": [
    {
     "data": {
      "text/html": [
       "<div>\n",
       "<style scoped>\n",
       "    .dataframe tbody tr th:only-of-type {\n",
       "        vertical-align: middle;\n",
       "    }\n",
       "\n",
       "    .dataframe tbody tr th {\n",
       "        vertical-align: top;\n",
       "    }\n",
       "\n",
       "    .dataframe thead th {\n",
       "        text-align: right;\n",
       "    }\n",
       "</style>\n",
       "<table border=\"1\" class=\"dataframe\">\n",
       "  <thead>\n",
       "    <tr style=\"text-align: right;\">\n",
       "      <th></th>\n",
       "      <th>dayofweek</th>\n",
       "      <th>hour</th>\n",
       "      <th>age</th>\n",
       "      <th>numscreens</th>\n",
       "      <th>minigame</th>\n",
       "      <th>used_premium_feature</th>\n",
       "      <th>liked</th>\n",
       "      <th>location</th>\n",
       "      <th>Institutions</th>\n",
       "      <th>VerifyPhone</th>\n",
       "      <th>...</th>\n",
       "      <th>SecurityModal</th>\n",
       "      <th>ResendToken</th>\n",
       "      <th>TransactionList</th>\n",
       "      <th>NetworkFailure</th>\n",
       "      <th>ListPicker</th>\n",
       "      <th>other</th>\n",
       "      <th>CM_count</th>\n",
       "      <th>CC_count</th>\n",
       "      <th>Loan_count</th>\n",
       "      <th>Savings_screen</th>\n",
       "    </tr>\n",
       "  </thead>\n",
       "  <tbody>\n",
       "    <tr>\n",
       "      <th>32896</th>\n",
       "      <td>0.477941</td>\n",
       "      <td>-1.690411</td>\n",
       "      <td>0.116421</td>\n",
       "      <td>-0.326602</td>\n",
       "      <td>-0.349133</td>\n",
       "      <td>-0.457013</td>\n",
       "      <td>-0.444165</td>\n",
       "      <td>0.963708</td>\n",
       "      <td>1.550660</td>\n",
       "      <td>0.949665</td>\n",
       "      <td>...</td>\n",
       "      <td>-0.121828</td>\n",
       "      <td>-0.115435</td>\n",
       "      <td>-0.11599</td>\n",
       "      <td>-0.092177</td>\n",
       "      <td>-0.088233</td>\n",
       "      <td>-0.333215</td>\n",
       "      <td>0.056226</td>\n",
       "      <td>-0.289377</td>\n",
       "      <td>0.313702</td>\n",
       "      <td>-0.259834</td>\n",
       "    </tr>\n",
       "    <tr>\n",
       "      <th>40331</th>\n",
       "      <td>-1.490870</td>\n",
       "      <td>-1.421211</td>\n",
       "      <td>-1.456394</td>\n",
       "      <td>-0.453946</td>\n",
       "      <td>-0.349133</td>\n",
       "      <td>-0.457013</td>\n",
       "      <td>-0.444165</td>\n",
       "      <td>0.963708</td>\n",
       "      <td>-0.644887</td>\n",
       "      <td>0.949665</td>\n",
       "      <td>...</td>\n",
       "      <td>-0.121828</td>\n",
       "      <td>-0.115435</td>\n",
       "      <td>-0.11599</td>\n",
       "      <td>-0.092177</td>\n",
       "      <td>-0.088233</td>\n",
       "      <td>0.211543</td>\n",
       "      <td>-0.763393</td>\n",
       "      <td>-0.289377</td>\n",
       "      <td>0.313702</td>\n",
       "      <td>-0.259834</td>\n",
       "    </tr>\n",
       "    <tr>\n",
       "      <th>32375</th>\n",
       "      <td>0.970144</td>\n",
       "      <td>1.001594</td>\n",
       "      <td>-0.901283</td>\n",
       "      <td>0.564809</td>\n",
       "      <td>-0.349133</td>\n",
       "      <td>-0.457013</td>\n",
       "      <td>-0.444165</td>\n",
       "      <td>0.963708</td>\n",
       "      <td>1.550660</td>\n",
       "      <td>0.949665</td>\n",
       "      <td>...</td>\n",
       "      <td>-0.121828</td>\n",
       "      <td>-0.115435</td>\n",
       "      <td>-0.11599</td>\n",
       "      <td>-0.092177</td>\n",
       "      <td>-0.088233</td>\n",
       "      <td>0.211543</td>\n",
       "      <td>1.695463</td>\n",
       "      <td>-0.289377</td>\n",
       "      <td>0.313702</td>\n",
       "      <td>-0.259834</td>\n",
       "    </tr>\n",
       "    <tr>\n",
       "      <th>17103</th>\n",
       "      <td>-0.506464</td>\n",
       "      <td>1.405395</td>\n",
       "      <td>1.226643</td>\n",
       "      <td>-0.963324</td>\n",
       "      <td>-0.349133</td>\n",
       "      <td>-0.457013</td>\n",
       "      <td>-0.444165</td>\n",
       "      <td>-1.037659</td>\n",
       "      <td>1.550660</td>\n",
       "      <td>-1.053003</td>\n",
       "      <td>...</td>\n",
       "      <td>-0.121828</td>\n",
       "      <td>-0.115435</td>\n",
       "      <td>-0.11599</td>\n",
       "      <td>-0.092177</td>\n",
       "      <td>-0.088233</td>\n",
       "      <td>-1.150353</td>\n",
       "      <td>0.056226</td>\n",
       "      <td>-0.289377</td>\n",
       "      <td>0.313702</td>\n",
       "      <td>-0.259834</td>\n",
       "    </tr>\n",
       "    <tr>\n",
       "      <th>36514</th>\n",
       "      <td>-0.014262</td>\n",
       "      <td>0.193993</td>\n",
       "      <td>0.764050</td>\n",
       "      <td>4.512488</td>\n",
       "      <td>-0.349133</td>\n",
       "      <td>2.188121</td>\n",
       "      <td>-0.444165</td>\n",
       "      <td>0.963708</td>\n",
       "      <td>-0.644887</td>\n",
       "      <td>0.949665</td>\n",
       "      <td>...</td>\n",
       "      <td>-0.121828</td>\n",
       "      <td>-0.115435</td>\n",
       "      <td>-0.11599</td>\n",
       "      <td>-0.092177</td>\n",
       "      <td>-0.088233</td>\n",
       "      <td>0.756302</td>\n",
       "      <td>-0.763393</td>\n",
       "      <td>-0.289377</td>\n",
       "      <td>0.313702</td>\n",
       "      <td>4.729093</td>\n",
       "    </tr>\n",
       "    <tr>\n",
       "      <th>...</th>\n",
       "      <td>...</td>\n",
       "      <td>...</td>\n",
       "      <td>...</td>\n",
       "      <td>...</td>\n",
       "      <td>...</td>\n",
       "      <td>...</td>\n",
       "      <td>...</td>\n",
       "      <td>...</td>\n",
       "      <td>...</td>\n",
       "      <td>...</td>\n",
       "      <td>...</td>\n",
       "      <td>...</td>\n",
       "      <td>...</td>\n",
       "      <td>...</td>\n",
       "      <td>...</td>\n",
       "      <td>...</td>\n",
       "      <td>...</td>\n",
       "      <td>...</td>\n",
       "      <td>...</td>\n",
       "      <td>...</td>\n",
       "      <td>...</td>\n",
       "    </tr>\n",
       "    <tr>\n",
       "      <th>9918</th>\n",
       "      <td>1.462347</td>\n",
       "      <td>0.597794</td>\n",
       "      <td>0.486495</td>\n",
       "      <td>2.474976</td>\n",
       "      <td>-0.349133</td>\n",
       "      <td>-0.457013</td>\n",
       "      <td>-0.444165</td>\n",
       "      <td>-1.037659</td>\n",
       "      <td>1.550660</td>\n",
       "      <td>-1.053003</td>\n",
       "      <td>...</td>\n",
       "      <td>-0.121828</td>\n",
       "      <td>-0.115435</td>\n",
       "      <td>-0.11599</td>\n",
       "      <td>-0.092177</td>\n",
       "      <td>-0.088233</td>\n",
       "      <td>-0.060836</td>\n",
       "      <td>1.695463</td>\n",
       "      <td>-0.289377</td>\n",
       "      <td>1.793429</td>\n",
       "      <td>-0.259834</td>\n",
       "    </tr>\n",
       "    <tr>\n",
       "      <th>5830</th>\n",
       "      <td>-0.506464</td>\n",
       "      <td>0.866994</td>\n",
       "      <td>1.874273</td>\n",
       "      <td>-1.281685</td>\n",
       "      <td>-0.349133</td>\n",
       "      <td>-0.457013</td>\n",
       "      <td>-0.444165</td>\n",
       "      <td>-1.037659</td>\n",
       "      <td>-0.644887</td>\n",
       "      <td>-1.053003</td>\n",
       "      <td>...</td>\n",
       "      <td>-0.121828</td>\n",
       "      <td>-0.115435</td>\n",
       "      <td>-0.11599</td>\n",
       "      <td>-0.092177</td>\n",
       "      <td>-0.088233</td>\n",
       "      <td>-1.422733</td>\n",
       "      <td>-0.763393</td>\n",
       "      <td>-0.289377</td>\n",
       "      <td>-1.166025</td>\n",
       "      <td>-0.259834</td>\n",
       "    </tr>\n",
       "    <tr>\n",
       "      <th>27028</th>\n",
       "      <td>1.462347</td>\n",
       "      <td>0.866994</td>\n",
       "      <td>0.116421</td>\n",
       "      <td>-0.963324</td>\n",
       "      <td>-0.349133</td>\n",
       "      <td>-0.457013</td>\n",
       "      <td>-0.444165</td>\n",
       "      <td>-1.037659</td>\n",
       "      <td>1.550660</td>\n",
       "      <td>-1.053003</td>\n",
       "      <td>...</td>\n",
       "      <td>-0.121828</td>\n",
       "      <td>-0.115435</td>\n",
       "      <td>-0.11599</td>\n",
       "      <td>-0.092177</td>\n",
       "      <td>-0.088233</td>\n",
       "      <td>-1.422733</td>\n",
       "      <td>0.056226</td>\n",
       "      <td>-0.289377</td>\n",
       "      <td>-1.166025</td>\n",
       "      <td>1.165574</td>\n",
       "    </tr>\n",
       "    <tr>\n",
       "      <th>43657</th>\n",
       "      <td>-0.998667</td>\n",
       "      <td>1.136195</td>\n",
       "      <td>-0.346172</td>\n",
       "      <td>-1.218013</td>\n",
       "      <td>-0.349133</td>\n",
       "      <td>-0.457013</td>\n",
       "      <td>-0.444165</td>\n",
       "      <td>-1.037659</td>\n",
       "      <td>-0.644887</td>\n",
       "      <td>-1.053003</td>\n",
       "      <td>...</td>\n",
       "      <td>-0.121828</td>\n",
       "      <td>-0.115435</td>\n",
       "      <td>-0.11599</td>\n",
       "      <td>-0.092177</td>\n",
       "      <td>-0.088233</td>\n",
       "      <td>-1.695112</td>\n",
       "      <td>-0.763393</td>\n",
       "      <td>-0.289377</td>\n",
       "      <td>-1.166025</td>\n",
       "      <td>-0.259834</td>\n",
       "    </tr>\n",
       "    <tr>\n",
       "      <th>33897</th>\n",
       "      <td>0.970144</td>\n",
       "      <td>-0.209808</td>\n",
       "      <td>-0.623728</td>\n",
       "      <td>-0.262930</td>\n",
       "      <td>-0.349133</td>\n",
       "      <td>-0.457013</td>\n",
       "      <td>-0.444165</td>\n",
       "      <td>0.963708</td>\n",
       "      <td>-0.644887</td>\n",
       "      <td>-1.053003</td>\n",
       "      <td>...</td>\n",
       "      <td>-0.121828</td>\n",
       "      <td>-0.115435</td>\n",
       "      <td>-0.11599</td>\n",
       "      <td>-0.092177</td>\n",
       "      <td>-0.088233</td>\n",
       "      <td>1.028681</td>\n",
       "      <td>-0.763393</td>\n",
       "      <td>-0.289377</td>\n",
       "      <td>1.793429</td>\n",
       "      <td>-0.259834</td>\n",
       "    </tr>\n",
       "  </tbody>\n",
       "</table>\n",
       "<p>10000 rows × 48 columns</p>\n",
       "</div>"
      ],
      "text/plain": [
       "       dayofweek      hour       age  numscreens  minigame  \\\n",
       "32896   0.477941 -1.690411  0.116421   -0.326602 -0.349133   \n",
       "40331  -1.490870 -1.421211 -1.456394   -0.453946 -0.349133   \n",
       "32375   0.970144  1.001594 -0.901283    0.564809 -0.349133   \n",
       "17103  -0.506464  1.405395  1.226643   -0.963324 -0.349133   \n",
       "36514  -0.014262  0.193993  0.764050    4.512488 -0.349133   \n",
       "...          ...       ...       ...         ...       ...   \n",
       "9918    1.462347  0.597794  0.486495    2.474976 -0.349133   \n",
       "5830   -0.506464  0.866994  1.874273   -1.281685 -0.349133   \n",
       "27028   1.462347  0.866994  0.116421   -0.963324 -0.349133   \n",
       "43657  -0.998667  1.136195 -0.346172   -1.218013 -0.349133   \n",
       "33897   0.970144 -0.209808 -0.623728   -0.262930 -0.349133   \n",
       "\n",
       "       used_premium_feature     liked  location  Institutions  VerifyPhone  \\\n",
       "32896             -0.457013 -0.444165  0.963708      1.550660     0.949665   \n",
       "40331             -0.457013 -0.444165  0.963708     -0.644887     0.949665   \n",
       "32375             -0.457013 -0.444165  0.963708      1.550660     0.949665   \n",
       "17103             -0.457013 -0.444165 -1.037659      1.550660    -1.053003   \n",
       "36514              2.188121 -0.444165  0.963708     -0.644887     0.949665   \n",
       "...                     ...       ...       ...           ...          ...   \n",
       "9918              -0.457013 -0.444165 -1.037659      1.550660    -1.053003   \n",
       "5830              -0.457013 -0.444165 -1.037659     -0.644887    -1.053003   \n",
       "27028             -0.457013 -0.444165 -1.037659      1.550660    -1.053003   \n",
       "43657             -0.457013 -0.444165 -1.037659     -0.644887    -1.053003   \n",
       "33897             -0.457013 -0.444165  0.963708     -0.644887    -1.053003   \n",
       "\n",
       "       ...  SecurityModal  ResendToken  TransactionList  NetworkFailure  \\\n",
       "32896  ...      -0.121828    -0.115435         -0.11599       -0.092177   \n",
       "40331  ...      -0.121828    -0.115435         -0.11599       -0.092177   \n",
       "32375  ...      -0.121828    -0.115435         -0.11599       -0.092177   \n",
       "17103  ...      -0.121828    -0.115435         -0.11599       -0.092177   \n",
       "36514  ...      -0.121828    -0.115435         -0.11599       -0.092177   \n",
       "...    ...            ...          ...              ...             ...   \n",
       "9918   ...      -0.121828    -0.115435         -0.11599       -0.092177   \n",
       "5830   ...      -0.121828    -0.115435         -0.11599       -0.092177   \n",
       "27028  ...      -0.121828    -0.115435         -0.11599       -0.092177   \n",
       "43657  ...      -0.121828    -0.115435         -0.11599       -0.092177   \n",
       "33897  ...      -0.121828    -0.115435         -0.11599       -0.092177   \n",
       "\n",
       "       ListPicker     other  CM_count  CC_count  Loan_count  Savings_screen  \n",
       "32896   -0.088233 -0.333215  0.056226 -0.289377    0.313702       -0.259834  \n",
       "40331   -0.088233  0.211543 -0.763393 -0.289377    0.313702       -0.259834  \n",
       "32375   -0.088233  0.211543  1.695463 -0.289377    0.313702       -0.259834  \n",
       "17103   -0.088233 -1.150353  0.056226 -0.289377    0.313702       -0.259834  \n",
       "36514   -0.088233  0.756302 -0.763393 -0.289377    0.313702        4.729093  \n",
       "...           ...       ...       ...       ...         ...             ...  \n",
       "9918    -0.088233 -0.060836  1.695463 -0.289377    1.793429       -0.259834  \n",
       "5830    -0.088233 -1.422733 -0.763393 -0.289377   -1.166025       -0.259834  \n",
       "27028   -0.088233 -1.422733  0.056226 -0.289377   -1.166025        1.165574  \n",
       "43657   -0.088233 -1.695112 -0.763393 -0.289377   -1.166025       -0.259834  \n",
       "33897   -0.088233  1.028681 -0.763393 -0.289377    1.793429       -0.259834  \n",
       "\n",
       "[10000 rows x 48 columns]"
      ]
     },
     "execution_count": 199,
     "metadata": {},
     "output_type": "execute_result"
    }
   ],
   "source": [
    "X_test"
   ]
  },
  {
   "cell_type": "markdown",
   "metadata": {},
   "source": [
    "# Model Building"
   ]
  },
  {
   "cell_type": "code",
   "execution_count": 200,
   "metadata": {},
   "outputs": [],
   "source": [
    "from sklearn.linear_model import LogisticRegression"
   ]
  },
  {
   "cell_type": "markdown",
   "metadata": {},
   "source": [
    "* To address other correlations between screens,\n",
    "* LASSO (L1) will penalize the field that is strongly correlated to response variable.\n",
    "* Because one screen would always appear before enrollment,\n",
    "    and that would turn up as strongly correlated to response variable. But we dont want to prioritize one screen over other via big coefficients.\n",
    "\n"
   ]
  },
  {
   "cell_type": "code",
   "execution_count": 201,
   "metadata": {},
   "outputs": [],
   "source": [
    "log_clf=LogisticRegression(penalty='l1',solver='liblinear') "
   ]
  },
  {
   "cell_type": "code",
   "execution_count": 202,
   "metadata": {},
   "outputs": [
    {
     "data": {
      "text/plain": [
       "LogisticRegression(C=1.0, class_weight=None, dual=False, fit_intercept=True,\n",
       "                   intercept_scaling=1, l1_ratio=None, max_iter=100,\n",
       "                   multi_class='auto', n_jobs=None, penalty='l1',\n",
       "                   random_state=None, solver='liblinear', tol=0.0001, verbose=0,\n",
       "                   warm_start=False)"
      ]
     },
     "execution_count": 202,
     "metadata": {},
     "output_type": "execute_result"
    }
   ],
   "source": [
    "log_clf.fit(X_train,y_train)"
   ]
  },
  {
   "cell_type": "code",
   "execution_count": 203,
   "metadata": {},
   "outputs": [],
   "source": [
    "y_pred=log_clf.predict(X_test)"
   ]
  },
  {
   "cell_type": "code",
   "execution_count": 205,
   "metadata": {},
   "outputs": [
    {
     "data": {
      "text/plain": [
       "array([0, 1, 1, ..., 0, 0, 0])"
      ]
     },
     "execution_count": 205,
     "metadata": {},
     "output_type": "execute_result"
    }
   ],
   "source": [
    "y_pred"
   ]
  },
  {
   "cell_type": "markdown",
   "metadata": {},
   "source": [
    "# Model Evaluation"
   ]
  },
  {
   "cell_type": "code",
   "execution_count": 207,
   "metadata": {},
   "outputs": [],
   "source": [
    "from sklearn.metrics import confusion_matrix,f1_score,precision_score,recall_score,accuracy_score"
   ]
  },
  {
   "cell_type": "code",
   "execution_count": 208,
   "metadata": {},
   "outputs": [],
   "source": [
    "cm=confusion_matrix(y_test,y_pred)"
   ]
  },
  {
   "cell_type": "code",
   "execution_count": 209,
   "metadata": {},
   "outputs": [
    {
     "data": {
      "text/plain": [
       "0.7629"
      ]
     },
     "execution_count": 209,
     "metadata": {},
     "output_type": "execute_result"
    }
   ],
   "source": [
    "accuracy_score(y_test,y_pred)"
   ]
  },
  {
   "cell_type": "code",
   "execution_count": 210,
   "metadata": {},
   "outputs": [],
   "source": [
    "#Precision - \n",
    "# TP/TP+FP\n",
    "#How many out of total positives predicted, how many did we predict correctly"
   ]
  },
  {
   "cell_type": "code",
   "execution_count": 211,
   "metadata": {},
   "outputs": [
    {
     "data": {
      "text/plain": [
       "0.762660158633313"
      ]
     },
     "execution_count": 211,
     "metadata": {},
     "output_type": "execute_result"
    }
   ],
   "source": [
    "precision_score(y_test,y_pred) #same as accuracy"
   ]
  },
  {
   "cell_type": "code",
   "execution_count": 212,
   "metadata": {},
   "outputs": [
    {
     "data": {
      "text/plain": [
       "0.7569640694388373"
      ]
     },
     "execution_count": 212,
     "metadata": {},
     "output_type": "execute_result"
    }
   ],
   "source": [
    "#Recall score\n",
    "#TP/TP+FN\n",
    "#Out of all actual positives, how many did we capture\n",
    "recall_score(y_test,y_pred)"
   ]
  },
  {
   "cell_type": "code",
   "execution_count": 213,
   "metadata": {},
   "outputs": [
    {
     "data": {
      "text/plain": [
       "0.7598014385573905"
      ]
     },
     "execution_count": 213,
     "metadata": {},
     "output_type": "execute_result"
    }
   ],
   "source": [
    "f1_score(y_test,y_pred)"
   ]
  },
  {
   "cell_type": "code",
   "execution_count": 218,
   "metadata": {},
   "outputs": [
    {
     "data": {
      "image/png": "[encoded data removed]",
      "text/plain": [
       "<Figure size 432x288 with 2 Axes>"
      ]
     },
     "metadata": {},
     "output_type": "display_data"
    }
   ],
   "source": [
    "sns.heatmap(cm,annot=True,fmt='g');"
   ]
  },
  {
   "cell_type": "markdown",
   "metadata": {},
   "source": [
    "# K fold cross validation\n",
    "## Guarantee that model works on all sorts of data in the population and doesnt overfit any specific part."
   ]
  },
  {
   "cell_type": "code",
   "execution_count": 219,
   "metadata": {},
   "outputs": [],
   "source": [
    "from sklearn.model_selection import cross_val_score"
   ]
  },
  {
   "cell_type": "code",
   "execution_count": 220,
   "metadata": {},
   "outputs": [],
   "source": [
    "accuracies=cross_val_score(estimator=log_clf,cv=5,X=X_train,y=y_train)"
   ]
  },
  {
   "cell_type": "code",
   "execution_count": 221,
   "metadata": {},
   "outputs": [
    {
     "name": "stdout",
     "output_type": "stream",
     "text": [
      "Logistic Accuracy:0.769 (+/-0.005)\n"
     ]
    }
   ],
   "source": [
    "print(\"Logistic Accuracy:%0.3f (+/-%0.3f)\"%(accuracies.mean(),accuracies.std()))"
   ]
  },
  {
   "cell_type": "markdown",
   "metadata": {},
   "source": [
    "# Model conclusion"
   ]
  },
  {
   "cell_type": "code",
   "execution_count": 222,
   "metadata": {},
   "outputs": [],
   "source": [
    "#Format the results"
   ]
  },
  {
   "cell_type": "code",
   "execution_count": 223,
   "metadata": {},
   "outputs": [],
   "source": [
    "final_results=pd.concat([y_test,test_identifier],axis=1).dropna()"
   ]
  },
  {
   "cell_type": "code",
   "execution_count": 224,
   "metadata": {},
   "outputs": [],
   "source": [
    "final_results['predicted']=y_pred"
   ]
  },
  {
   "cell_type": "code",
   "execution_count": 225,
   "metadata": {},
   "outputs": [
    {
     "data": {
      "text/html": [
       "<div>\n",
       "<style scoped>\n",
       "    .dataframe tbody tr th:only-of-type {\n",
       "        vertical-align: middle;\n",
       "    }\n",
       "\n",
       "    .dataframe tbody tr th {\n",
       "        vertical-align: top;\n",
       "    }\n",
       "\n",
       "    .dataframe thead th {\n",
       "        text-align: right;\n",
       "    }\n",
       "</style>\n",
       "<table border=\"1\" class=\"dataframe\">\n",
       "  <thead>\n",
       "    <tr style=\"text-align: right;\">\n",
       "      <th></th>\n",
       "      <th>user</th>\n",
       "      <th>enrolled</th>\n",
       "      <th>predicted</th>\n",
       "    </tr>\n",
       "  </thead>\n",
       "  <tbody>\n",
       "    <tr>\n",
       "      <th>0</th>\n",
       "      <td>325888</td>\n",
       "      <td>0</td>\n",
       "      <td>0</td>\n",
       "    </tr>\n",
       "    <tr>\n",
       "      <th>1</th>\n",
       "      <td>214447</td>\n",
       "      <td>1</td>\n",
       "      <td>1</td>\n",
       "    </tr>\n",
       "    <tr>\n",
       "      <th>2</th>\n",
       "      <td>37998</td>\n",
       "      <td>1</td>\n",
       "      <td>1</td>\n",
       "    </tr>\n",
       "    <tr>\n",
       "      <th>3</th>\n",
       "      <td>341320</td>\n",
       "      <td>0</td>\n",
       "      <td>0</td>\n",
       "    </tr>\n",
       "    <tr>\n",
       "      <th>4</th>\n",
       "      <td>133568</td>\n",
       "      <td>0</td>\n",
       "      <td>0</td>\n",
       "    </tr>\n",
       "    <tr>\n",
       "      <th>...</th>\n",
       "      <td>...</td>\n",
       "      <td>...</td>\n",
       "      <td>...</td>\n",
       "    </tr>\n",
       "    <tr>\n",
       "      <th>9995</th>\n",
       "      <td>212260</td>\n",
       "      <td>1</td>\n",
       "      <td>0</td>\n",
       "    </tr>\n",
       "    <tr>\n",
       "      <th>9996</th>\n",
       "      <td>84233</td>\n",
       "      <td>0</td>\n",
       "      <td>0</td>\n",
       "    </tr>\n",
       "    <tr>\n",
       "      <th>9997</th>\n",
       "      <td>58579</td>\n",
       "      <td>0</td>\n",
       "      <td>0</td>\n",
       "    </tr>\n",
       "    <tr>\n",
       "      <th>9998</th>\n",
       "      <td>230158</td>\n",
       "      <td>0</td>\n",
       "      <td>0</td>\n",
       "    </tr>\n",
       "    <tr>\n",
       "      <th>9999</th>\n",
       "      <td>41869</td>\n",
       "      <td>1</td>\n",
       "      <td>0</td>\n",
       "    </tr>\n",
       "  </tbody>\n",
       "</table>\n",
       "<p>10000 rows × 3 columns</p>\n",
       "</div>"
      ],
      "text/plain": [
       "        user  enrolled  predicted\n",
       "0     325888         0          0\n",
       "1     214447         1          1\n",
       "2      37998         1          1\n",
       "3     341320         0          0\n",
       "4     133568         0          0\n",
       "...      ...       ...        ...\n",
       "9995  212260         1          0\n",
       "9996   84233         0          0\n",
       "9997   58579         0          0\n",
       "9998  230158         0          0\n",
       "9999   41869         1          0\n",
       "\n",
       "[10000 rows x 3 columns]"
      ]
     },
     "execution_count": 225,
     "metadata": {},
     "output_type": "execute_result"
    }
   ],
   "source": [
    "final_results[['user','enrolled','predicted']].reset_index(drop=True)"
   ]
  },
  {
   "cell_type": "markdown",
   "metadata": {},
   "source": [
    "# Concluding remarks\n",
    "* Users who arent willing to convert should be converted\n",
    "* Those willing to convert will do so even without targeting.\n",
    "* Thus, we can offer - one month free or 50% off yearly subscriptions."
   ]
  },
  {
   "cell_type": "code",
   "execution_count": null,
   "metadata": {},
   "outputs": [],
   "source": []
  }
 ],
 "metadata": {
  "kernelspec": {
   "display_name": "Python 3",
   "language": "python",
   "name": "python3"
  },
  "language_info": {
   "codemirror_mode": {
    "name": "ipython",
    "version": 3
   },
   "file_extension": ".py",
   "mimetype": "text/x-python",
   "name": "python",
   "nbconvert_exporter": "python",
   "pygments_lexer": "ipython3",
   "version": "3.7.6"
  }
 },
 "nbformat": 4,
 "nbformat_minor": 4
}
