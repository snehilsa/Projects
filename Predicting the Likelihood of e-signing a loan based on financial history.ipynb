{
 "cells": [
  {
   "cell_type": "markdown",
   "metadata": {},
   "source": [
    "# Background\n",
    "* Lending marketplaces (P-2-P) received loan applicants and these marketplaces act as intermediary between applicants and lending companies.\n",
    "\n",
    "* Lending companies must assess the quality of these leads to decide whether or not the offer them loan.\n",
    "\n",
    "* We need to develop a model to predict the \"quality applicants\". \n",
    "    * \"Quality applicants\" are those who reach a key part of the loan application process. For example, someone who reaches the part X of the process, is deemed really interested in the loan."
   ]
  },
  {
   "cell_type": "markdown",
   "metadata": {},
   "source": [
    "# Case Study"
   ]
  },
  {
   "cell_type": "markdown",
   "metadata": {},
   "source": [
    "* We work for a fintech company that offers loans to customers based on financial habits.\n",
    "* Company has partnered with P2P lending marketplaces to get leads. Conversions from these leads have been good so far.\n",
    "# Goal -\n",
    "* Predict if the leads will complete the electronic signature phase of loan application (e-sign) to identify those who finish the onboarding process.\n",
    "\n",
    "## Why e-sign process ?\n",
    "* the last step of finalising the loan application. The leads come from the marketplace to the fintech app and finish the application after e-signature."
   ]
  },
  {
   "cell_type": "markdown",
   "metadata": {},
   "source": [
    "# Libraries & data"
   ]
  },
  {
   "cell_type": "code",
   "execution_count": 1,
   "metadata": {},
   "outputs": [],
   "source": [
    "import numpy as np\n",
    "import pandas as pd\n",
    "import matplotlib.pyplot as plt\n",
    "import seaborn as sns\n",
    "import time\n",
    "import random"
   ]
  },
  {
   "cell_type": "code",
   "execution_count": 2,
   "metadata": {},
   "outputs": [],
   "source": [
    "data=pd.read_csv('findata.csv')"
   ]
  },
  {
   "cell_type": "code",
   "execution_count": 3,
   "metadata": {},
   "outputs": [
    {
     "data": {
      "text/html": [
       "<div>\n",
       "<style scoped>\n",
       "    .dataframe tbody tr th:only-of-type {\n",
       "        vertical-align: middle;\n",
       "    }\n",
       "\n",
       "    .dataframe tbody tr th {\n",
       "        vertical-align: top;\n",
       "    }\n",
       "\n",
       "    .dataframe thead th {\n",
       "        text-align: right;\n",
       "    }\n",
       "</style>\n",
       "<table border=\"1\" class=\"dataframe\">\n",
       "  <thead>\n",
       "    <tr style=\"text-align: right;\">\n",
       "      <th></th>\n",
       "      <th>entry_id</th>\n",
       "      <th>age</th>\n",
       "      <th>pay_schedule</th>\n",
       "      <th>home_owner</th>\n",
       "      <th>income</th>\n",
       "      <th>months_employed</th>\n",
       "      <th>years_employed</th>\n",
       "      <th>current_address_year</th>\n",
       "      <th>personal_account_m</th>\n",
       "      <th>personal_account_y</th>\n",
       "      <th>...</th>\n",
       "      <th>amount_requested</th>\n",
       "      <th>risk_score</th>\n",
       "      <th>risk_score_2</th>\n",
       "      <th>risk_score_3</th>\n",
       "      <th>risk_score_4</th>\n",
       "      <th>risk_score_5</th>\n",
       "      <th>ext_quality_score</th>\n",
       "      <th>ext_quality_score_2</th>\n",
       "      <th>inquiries_last_month</th>\n",
       "      <th>e_signed</th>\n",
       "    </tr>\n",
       "  </thead>\n",
       "  <tbody>\n",
       "    <tr>\n",
       "      <th>0</th>\n",
       "      <td>7629673</td>\n",
       "      <td>40</td>\n",
       "      <td>bi-weekly</td>\n",
       "      <td>1</td>\n",
       "      <td>3135</td>\n",
       "      <td>0</td>\n",
       "      <td>3</td>\n",
       "      <td>3</td>\n",
       "      <td>6</td>\n",
       "      <td>2</td>\n",
       "      <td>...</td>\n",
       "      <td>550</td>\n",
       "      <td>36200</td>\n",
       "      <td>0.737398</td>\n",
       "      <td>0.903517</td>\n",
       "      <td>0.487712</td>\n",
       "      <td>0.515977</td>\n",
       "      <td>0.580918</td>\n",
       "      <td>0.380918</td>\n",
       "      <td>10</td>\n",
       "      <td>1</td>\n",
       "    </tr>\n",
       "    <tr>\n",
       "      <th>1</th>\n",
       "      <td>3560428</td>\n",
       "      <td>61</td>\n",
       "      <td>weekly</td>\n",
       "      <td>0</td>\n",
       "      <td>3180</td>\n",
       "      <td>0</td>\n",
       "      <td>6</td>\n",
       "      <td>3</td>\n",
       "      <td>2</td>\n",
       "      <td>7</td>\n",
       "      <td>...</td>\n",
       "      <td>600</td>\n",
       "      <td>30150</td>\n",
       "      <td>0.738510</td>\n",
       "      <td>0.881027</td>\n",
       "      <td>0.713423</td>\n",
       "      <td>0.826402</td>\n",
       "      <td>0.730720</td>\n",
       "      <td>0.630720</td>\n",
       "      <td>9</td>\n",
       "      <td>0</td>\n",
       "    </tr>\n",
       "    <tr>\n",
       "      <th>2</th>\n",
       "      <td>6934997</td>\n",
       "      <td>23</td>\n",
       "      <td>weekly</td>\n",
       "      <td>0</td>\n",
       "      <td>1540</td>\n",
       "      <td>6</td>\n",
       "      <td>0</td>\n",
       "      <td>0</td>\n",
       "      <td>7</td>\n",
       "      <td>1</td>\n",
       "      <td>...</td>\n",
       "      <td>450</td>\n",
       "      <td>34550</td>\n",
       "      <td>0.642993</td>\n",
       "      <td>0.766554</td>\n",
       "      <td>0.595018</td>\n",
       "      <td>0.762284</td>\n",
       "      <td>0.531712</td>\n",
       "      <td>0.531712</td>\n",
       "      <td>7</td>\n",
       "      <td>0</td>\n",
       "    </tr>\n",
       "    <tr>\n",
       "      <th>3</th>\n",
       "      <td>5682812</td>\n",
       "      <td>40</td>\n",
       "      <td>bi-weekly</td>\n",
       "      <td>0</td>\n",
       "      <td>5230</td>\n",
       "      <td>0</td>\n",
       "      <td>6</td>\n",
       "      <td>1</td>\n",
       "      <td>2</td>\n",
       "      <td>7</td>\n",
       "      <td>...</td>\n",
       "      <td>700</td>\n",
       "      <td>42150</td>\n",
       "      <td>0.665224</td>\n",
       "      <td>0.960832</td>\n",
       "      <td>0.767828</td>\n",
       "      <td>0.778831</td>\n",
       "      <td>0.792552</td>\n",
       "      <td>0.592552</td>\n",
       "      <td>8</td>\n",
       "      <td>1</td>\n",
       "    </tr>\n",
       "    <tr>\n",
       "      <th>4</th>\n",
       "      <td>5335819</td>\n",
       "      <td>33</td>\n",
       "      <td>semi-monthly</td>\n",
       "      <td>0</td>\n",
       "      <td>3590</td>\n",
       "      <td>0</td>\n",
       "      <td>5</td>\n",
       "      <td>2</td>\n",
       "      <td>2</td>\n",
       "      <td>8</td>\n",
       "      <td>...</td>\n",
       "      <td>1100</td>\n",
       "      <td>53850</td>\n",
       "      <td>0.617361</td>\n",
       "      <td>0.857560</td>\n",
       "      <td>0.613487</td>\n",
       "      <td>0.665523</td>\n",
       "      <td>0.744634</td>\n",
       "      <td>0.744634</td>\n",
       "      <td>12</td>\n",
       "      <td>0</td>\n",
       "    </tr>\n",
       "  </tbody>\n",
       "</table>\n",
       "<p>5 rows × 21 columns</p>\n",
       "</div>"
      ],
      "text/plain": [
       "   entry_id  age  pay_schedule  home_owner  income  months_employed  \\\n",
       "0   7629673   40     bi-weekly           1    3135                0   \n",
       "1   3560428   61        weekly           0    3180                0   \n",
       "2   6934997   23        weekly           0    1540                6   \n",
       "3   5682812   40     bi-weekly           0    5230                0   \n",
       "4   5335819   33  semi-monthly           0    3590                0   \n",
       "\n",
       "   years_employed  current_address_year  personal_account_m  \\\n",
       "0               3                     3                   6   \n",
       "1               6                     3                   2   \n",
       "2               0                     0                   7   \n",
       "3               6                     1                   2   \n",
       "4               5                     2                   2   \n",
       "\n",
       "   personal_account_y  ...  amount_requested  risk_score  risk_score_2  \\\n",
       "0                   2  ...               550       36200      0.737398   \n",
       "1                   7  ...               600       30150      0.738510   \n",
       "2                   1  ...               450       34550      0.642993   \n",
       "3                   7  ...               700       42150      0.665224   \n",
       "4                   8  ...              1100       53850      0.617361   \n",
       "\n",
       "   risk_score_3  risk_score_4  risk_score_5  ext_quality_score  \\\n",
       "0      0.903517      0.487712      0.515977           0.580918   \n",
       "1      0.881027      0.713423      0.826402           0.730720   \n",
       "2      0.766554      0.595018      0.762284           0.531712   \n",
       "3      0.960832      0.767828      0.778831           0.792552   \n",
       "4      0.857560      0.613487      0.665523           0.744634   \n",
       "\n",
       "   ext_quality_score_2  inquiries_last_month  e_signed  \n",
       "0             0.380918                    10         1  \n",
       "1             0.630720                     9         0  \n",
       "2             0.531712                     7         0  \n",
       "3             0.592552                     8         1  \n",
       "4             0.744634                    12         0  \n",
       "\n",
       "[5 rows x 21 columns]"
      ]
     },
     "execution_count": 3,
     "metadata": {},
     "output_type": "execute_result"
    }
   ],
   "source": [
    "data.head()"
   ]
  },
  {
   "cell_type": "code",
   "execution_count": 4,
   "metadata": {},
   "outputs": [
    {
     "name": "stdout",
     "output_type": "stream",
     "text": [
      "<class 'pandas.core.frame.DataFrame'>\n",
      "RangeIndex: 17908 entries, 0 to 17907\n",
      "Data columns (total 21 columns):\n",
      " #   Column                Non-Null Count  Dtype  \n",
      "---  ------                --------------  -----  \n",
      " 0   entry_id              17908 non-null  int64  \n",
      " 1   age                   17908 non-null  int64  \n",
      " 2   pay_schedule          17908 non-null  object \n",
      " 3   home_owner            17908 non-null  int64  \n",
      " 4   income                17908 non-null  int64  \n",
      " 5   months_employed       17908 non-null  int64  \n",
      " 6   years_employed        17908 non-null  int64  \n",
      " 7   current_address_year  17908 non-null  int64  \n",
      " 8   personal_account_m    17908 non-null  int64  \n",
      " 9   personal_account_y    17908 non-null  int64  \n",
      " 10  has_debt              17908 non-null  int64  \n",
      " 11  amount_requested      17908 non-null  int64  \n",
      " 12  risk_score            17908 non-null  int64  \n",
      " 13  risk_score_2          17908 non-null  float64\n",
      " 14  risk_score_3          17908 non-null  float64\n",
      " 15  risk_score_4          17908 non-null  float64\n",
      " 16  risk_score_5          17908 non-null  float64\n",
      " 17  ext_quality_score     17908 non-null  float64\n",
      " 18  ext_quality_score_2   17908 non-null  float64\n",
      " 19  inquiries_last_month  17908 non-null  int64  \n",
      " 20  e_signed              17908 non-null  int64  \n",
      "dtypes: float64(6), int64(14), object(1)\n",
      "memory usage: 2.9+ MB\n"
     ]
    }
   ],
   "source": [
    "data.info()"
   ]
  },
  {
   "cell_type": "markdown",
   "metadata": {},
   "source": [
    "# EDA"
   ]
  },
  {
   "cell_type": "code",
   "execution_count": 5,
   "metadata": {
    "scrolled": true
   },
   "outputs": [
    {
     "data": {
      "text/html": [
       "<div>\n",
       "<style scoped>\n",
       "    .dataframe tbody tr th:only-of-type {\n",
       "        vertical-align: middle;\n",
       "    }\n",
       "\n",
       "    .dataframe tbody tr th {\n",
       "        vertical-align: top;\n",
       "    }\n",
       "\n",
       "    .dataframe thead th {\n",
       "        text-align: right;\n",
       "    }\n",
       "</style>\n",
       "<table border=\"1\" class=\"dataframe\">\n",
       "  <thead>\n",
       "    <tr style=\"text-align: right;\">\n",
       "      <th></th>\n",
       "      <th>entry_id</th>\n",
       "      <th>age</th>\n",
       "      <th>home_owner</th>\n",
       "      <th>income</th>\n",
       "      <th>months_employed</th>\n",
       "      <th>years_employed</th>\n",
       "      <th>current_address_year</th>\n",
       "      <th>personal_account_m</th>\n",
       "      <th>personal_account_y</th>\n",
       "      <th>has_debt</th>\n",
       "      <th>amount_requested</th>\n",
       "      <th>risk_score</th>\n",
       "      <th>risk_score_2</th>\n",
       "      <th>risk_score_3</th>\n",
       "      <th>risk_score_4</th>\n",
       "      <th>risk_score_5</th>\n",
       "      <th>ext_quality_score</th>\n",
       "      <th>ext_quality_score_2</th>\n",
       "      <th>inquiries_last_month</th>\n",
       "      <th>e_signed</th>\n",
       "    </tr>\n",
       "  </thead>\n",
       "  <tbody>\n",
       "    <tr>\n",
       "      <th>count</th>\n",
       "      <td>17908.00000</td>\n",
       "      <td>17908.00000</td>\n",
       "      <td>17908.00000</td>\n",
       "      <td>17908.00000</td>\n",
       "      <td>17908.00000</td>\n",
       "      <td>17908.00000</td>\n",
       "      <td>17908.00000</td>\n",
       "      <td>17908.00000</td>\n",
       "      <td>17908.00000</td>\n",
       "      <td>17908.00000</td>\n",
       "      <td>17908.00000</td>\n",
       "      <td>17908.00000</td>\n",
       "      <td>17908.00000</td>\n",
       "      <td>17908.00000</td>\n",
       "      <td>17908.00000</td>\n",
       "      <td>17908.00000</td>\n",
       "      <td>17908.00000</td>\n",
       "      <td>17908.00000</td>\n",
       "      <td>17908.00000</td>\n",
       "      <td>17908.00000</td>\n",
       "    </tr>\n",
       "    <tr>\n",
       "      <th>mean</th>\n",
       "      <td>5596977.61615</td>\n",
       "      <td>43.01541</td>\n",
       "      <td>0.42517</td>\n",
       "      <td>3657.21465</td>\n",
       "      <td>1.18601</td>\n",
       "      <td>3.52686</td>\n",
       "      <td>3.58471</td>\n",
       "      <td>3.42718</td>\n",
       "      <td>3.50335</td>\n",
       "      <td>0.79540</td>\n",
       "      <td>950.44645</td>\n",
       "      <td>61086.30221</td>\n",
       "      <td>0.69088</td>\n",
       "      <td>0.87828</td>\n",
       "      <td>0.58315</td>\n",
       "      <td>0.71825</td>\n",
       "      <td>0.62311</td>\n",
       "      <td>0.62207</td>\n",
       "      <td>6.45723</td>\n",
       "      <td>0.53825</td>\n",
       "    </tr>\n",
       "    <tr>\n",
       "      <th>std</th>\n",
       "      <td>2562472.75067</td>\n",
       "      <td>11.87311</td>\n",
       "      <td>0.49438</td>\n",
       "      <td>1504.89006</td>\n",
       "      <td>2.40090</td>\n",
       "      <td>2.25973</td>\n",
       "      <td>2.75194</td>\n",
       "      <td>2.21644</td>\n",
       "      <td>1.95557</td>\n",
       "      <td>0.40342</td>\n",
       "      <td>698.54368</td>\n",
       "      <td>15394.25502</td>\n",
       "      <td>0.09047</td>\n",
       "      <td>0.05456</td>\n",
       "      <td>0.12506</td>\n",
       "      <td>0.12070</td>\n",
       "      <td>0.13973</td>\n",
       "      <td>0.13990</td>\n",
       "      <td>3.67309</td>\n",
       "      <td>0.49855</td>\n",
       "    </tr>\n",
       "    <tr>\n",
       "      <th>min</th>\n",
       "      <td>1111398.00000</td>\n",
       "      <td>18.00000</td>\n",
       "      <td>0.00000</td>\n",
       "      <td>905.00000</td>\n",
       "      <td>0.00000</td>\n",
       "      <td>0.00000</td>\n",
       "      <td>0.00000</td>\n",
       "      <td>0.00000</td>\n",
       "      <td>0.00000</td>\n",
       "      <td>0.00000</td>\n",
       "      <td>350.00000</td>\n",
       "      <td>2100.00000</td>\n",
       "      <td>0.02326</td>\n",
       "      <td>0.45137</td>\n",
       "      <td>0.01672</td>\n",
       "      <td>0.15337</td>\n",
       "      <td>0.01018</td>\n",
       "      <td>0.00662</td>\n",
       "      <td>1.00000</td>\n",
       "      <td>0.00000</td>\n",
       "    </tr>\n",
       "    <tr>\n",
       "      <th>25%</th>\n",
       "      <td>3378998.75000</td>\n",
       "      <td>34.00000</td>\n",
       "      <td>0.00000</td>\n",
       "      <td>2580.00000</td>\n",
       "      <td>0.00000</td>\n",
       "      <td>2.00000</td>\n",
       "      <td>2.00000</td>\n",
       "      <td>2.00000</td>\n",
       "      <td>2.00000</td>\n",
       "      <td>1.00000</td>\n",
       "      <td>600.00000</td>\n",
       "      <td>49350.00000</td>\n",
       "      <td>0.64099</td>\n",
       "      <td>0.85088</td>\n",
       "      <td>0.50021</td>\n",
       "      <td>0.63371</td>\n",
       "      <td>0.52173</td>\n",
       "      <td>0.51968</td>\n",
       "      <td>4.00000</td>\n",
       "      <td>0.00000</td>\n",
       "    </tr>\n",
       "    <tr>\n",
       "      <th>50%</th>\n",
       "      <td>5608376.00000</td>\n",
       "      <td>42.00000</td>\n",
       "      <td>0.00000</td>\n",
       "      <td>3260.00000</td>\n",
       "      <td>0.00000</td>\n",
       "      <td>3.00000</td>\n",
       "      <td>3.00000</td>\n",
       "      <td>2.00000</td>\n",
       "      <td>3.00000</td>\n",
       "      <td>1.00000</td>\n",
       "      <td>700.00000</td>\n",
       "      <td>61200.00000</td>\n",
       "      <td>0.69956</td>\n",
       "      <td>0.88100</td>\n",
       "      <td>0.58821</td>\n",
       "      <td>0.72511</td>\n",
       "      <td>0.62594</td>\n",
       "      <td>0.62297</td>\n",
       "      <td>6.00000</td>\n",
       "      <td>1.00000</td>\n",
       "    </tr>\n",
       "    <tr>\n",
       "      <th>75%</th>\n",
       "      <td>7805624.25000</td>\n",
       "      <td>51.00000</td>\n",
       "      <td>1.00000</td>\n",
       "      <td>4670.00000</td>\n",
       "      <td>1.00000</td>\n",
       "      <td>5.00000</td>\n",
       "      <td>5.00000</td>\n",
       "      <td>5.00000</td>\n",
       "      <td>4.00000</td>\n",
       "      <td>1.00000</td>\n",
       "      <td>1100.00000</td>\n",
       "      <td>72750.00000</td>\n",
       "      <td>0.75289</td>\n",
       "      <td>0.91261</td>\n",
       "      <td>0.67239</td>\n",
       "      <td>0.80668</td>\n",
       "      <td>0.72984</td>\n",
       "      <td>0.72894</td>\n",
       "      <td>8.00000</td>\n",
       "      <td>1.00000</td>\n",
       "    </tr>\n",
       "    <tr>\n",
       "      <th>max</th>\n",
       "      <td>9999874.00000</td>\n",
       "      <td>96.00000</td>\n",
       "      <td>1.00000</td>\n",
       "      <td>9985.00000</td>\n",
       "      <td>11.00000</td>\n",
       "      <td>16.00000</td>\n",
       "      <td>12.00000</td>\n",
       "      <td>11.00000</td>\n",
       "      <td>15.00000</td>\n",
       "      <td>1.00000</td>\n",
       "      <td>10200.00000</td>\n",
       "      <td>99750.00000</td>\n",
       "      <td>1.00000</td>\n",
       "      <td>0.99902</td>\n",
       "      <td>0.97893</td>\n",
       "      <td>0.99626</td>\n",
       "      <td>0.97025</td>\n",
       "      <td>0.96695</td>\n",
       "      <td>30.00000</td>\n",
       "      <td>1.00000</td>\n",
       "    </tr>\n",
       "  </tbody>\n",
       "</table>\n",
       "</div>"
      ],
      "text/plain": [
       "           entry_id         age  home_owner      income  months_employed  \\\n",
       "count   17908.00000 17908.00000 17908.00000 17908.00000      17908.00000   \n",
       "mean  5596977.61615    43.01541     0.42517  3657.21465          1.18601   \n",
       "std   2562472.75067    11.87311     0.49438  1504.89006          2.40090   \n",
       "min   1111398.00000    18.00000     0.00000   905.00000          0.00000   \n",
       "25%   3378998.75000    34.00000     0.00000  2580.00000          0.00000   \n",
       "50%   5608376.00000    42.00000     0.00000  3260.00000          0.00000   \n",
       "75%   7805624.25000    51.00000     1.00000  4670.00000          1.00000   \n",
       "max   9999874.00000    96.00000     1.00000  9985.00000         11.00000   \n",
       "\n",
       "       years_employed  current_address_year  personal_account_m  \\\n",
       "count     17908.00000           17908.00000         17908.00000   \n",
       "mean          3.52686               3.58471             3.42718   \n",
       "std           2.25973               2.75194             2.21644   \n",
       "min           0.00000               0.00000             0.00000   \n",
       "25%           2.00000               2.00000             2.00000   \n",
       "50%           3.00000               3.00000             2.00000   \n",
       "75%           5.00000               5.00000             5.00000   \n",
       "max          16.00000              12.00000            11.00000   \n",
       "\n",
       "       personal_account_y    has_debt  amount_requested  risk_score  \\\n",
       "count         17908.00000 17908.00000       17908.00000 17908.00000   \n",
       "mean              3.50335     0.79540         950.44645 61086.30221   \n",
       "std               1.95557     0.40342         698.54368 15394.25502   \n",
       "min               0.00000     0.00000         350.00000  2100.00000   \n",
       "25%               2.00000     1.00000         600.00000 49350.00000   \n",
       "50%               3.00000     1.00000         700.00000 61200.00000   \n",
       "75%               4.00000     1.00000        1100.00000 72750.00000   \n",
       "max              15.00000     1.00000       10200.00000 99750.00000   \n",
       "\n",
       "       risk_score_2  risk_score_3  risk_score_4  risk_score_5  \\\n",
       "count   17908.00000   17908.00000   17908.00000   17908.00000   \n",
       "mean        0.69088       0.87828       0.58315       0.71825   \n",
       "std         0.09047       0.05456       0.12506       0.12070   \n",
       "min         0.02326       0.45137       0.01672       0.15337   \n",
       "25%         0.64099       0.85088       0.50021       0.63371   \n",
       "50%         0.69956       0.88100       0.58821       0.72511   \n",
       "75%         0.75289       0.91261       0.67239       0.80668   \n",
       "max         1.00000       0.99902       0.97893       0.99626   \n",
       "\n",
       "       ext_quality_score  ext_quality_score_2  inquiries_last_month  \\\n",
       "count        17908.00000          17908.00000           17908.00000   \n",
       "mean             0.62311              0.62207               6.45723   \n",
       "std              0.13973              0.13990               3.67309   \n",
       "min              0.01018              0.00662               1.00000   \n",
       "25%              0.52173              0.51968               4.00000   \n",
       "50%              0.62594              0.62297               6.00000   \n",
       "75%              0.72984              0.72894               8.00000   \n",
       "max              0.97025              0.96695              30.00000   \n",
       "\n",
       "         e_signed  \n",
       "count 17908.00000  \n",
       "mean      0.53825  \n",
       "std       0.49855  \n",
       "min       0.00000  \n",
       "25%       0.00000  \n",
       "50%       1.00000  \n",
       "75%       1.00000  \n",
       "max       1.00000  "
      ]
     },
     "execution_count": 5,
     "metadata": {},
     "output_type": "execute_result"
    }
   ],
   "source": [
    "pd.set_option('display.float_format', lambda x: '%.5f' % x)\n",
    "data.describe()"
   ]
  },
  {
   "cell_type": "code",
   "execution_count": 6,
   "metadata": {},
   "outputs": [
    {
     "data": {
      "text/plain": [
       "entry_id                False\n",
       "age                     False\n",
       "pay_schedule            False\n",
       "home_owner              False\n",
       "income                  False\n",
       "months_employed         False\n",
       "years_employed          False\n",
       "current_address_year    False\n",
       "personal_account_m      False\n",
       "personal_account_y      False\n",
       "has_debt                False\n",
       "amount_requested        False\n",
       "risk_score              False\n",
       "risk_score_2            False\n",
       "risk_score_3            False\n",
       "risk_score_4            False\n",
       "risk_score_5            False\n",
       "ext_quality_score       False\n",
       "ext_quality_score_2     False\n",
       "inquiries_last_month    False\n",
       "e_signed                False\n",
       "dtype: bool"
      ]
     },
     "execution_count": 6,
     "metadata": {},
     "output_type": "execute_result"
    }
   ],
   "source": [
    "# Clean the data\n",
    "#No null values\n",
    "data.isna().any()"
   ]
  },
  {
   "cell_type": "markdown",
   "metadata": {},
   "source": [
    "# Histograms"
   ]
  },
  {
   "cell_type": "code",
   "execution_count": 7,
   "metadata": {},
   "outputs": [],
   "source": [
    "#Only numerical ones with non-nulls\n",
    "numerical_cols=data.drop(columns=['entry_id','e_signed','pay_schedule'])"
   ]
  },
  {
   "cell_type": "code",
   "execution_count": 8,
   "metadata": {},
   "outputs": [
    {
     "data": {
      "image/png": "[encoded data removed]",
      "text/plain": [
       "<Figure size 1440x1080 with 20 Axes>"
      ]
     },
     "metadata": {
      "needs_background": "light"
     },
     "output_type": "display_data"
    }
   ],
   "source": [
    "numerical_cols.hist(figsize=(20,15));"
   ]
  },
  {
   "cell_type": "code",
   "execution_count": 9,
   "metadata": {},
   "outputs": [
    {
     "data": {
      "image/png": "[encoded data removed]",
      "text/plain": [
       "<Figure size 1080x864 with 18 Axes>"
      ]
     },
     "metadata": {
      "needs_background": "light"
     },
     "output_type": "display_data"
    }
   ],
   "source": [
    "fig=plt.figure(figsize=(15,12))\n",
    "plt.suptitle('Histograms of Numerical columns',fontsize=20)\n",
    "for i in range(numerical_cols.shape[1]):\n",
    "    plt.subplot(6,3,i+1)\n",
    "    f=plt.gca()\n",
    "    f.set_title(numerical_cols.columns.values[i])\n",
    "    vals=numerical_cols.iloc[:,i].nunique()\n",
    "    if vals>=100:\n",
    "        vals=100\n",
    "    plt.hist(numerical_cols.iloc[:,i],bins=vals,color='#3F5D7D')\n",
    "plt.tight_layout(rect=[0,0.03,1,0.95])     "
   ]
  },
  {
   "cell_type": "code",
   "execution_count": 10,
   "metadata": {},
   "outputs": [
    {
     "data": {
      "image/png": "[encoded data removed]",
      "text/plain": [
       "<Figure size 1440x720 with 1 Axes>"
      ]
     },
     "metadata": {
      "needs_background": "light"
     },
     "output_type": "display_data"
    }
   ],
   "source": [
    "# Correlation plot\n",
    "numerical_cols.corrwith(data['e_signed']).plot.bar(figsize=(20,10),title='Correlations',fontsize=15,color=['red', 'blue', 'purple', 'green', 'lavender'],rot=45,grid=True);"
   ]
  },
  {
   "cell_type": "code",
   "execution_count": 11,
   "metadata": {},
   "outputs": [
    {
     "data": {
      "image/png": "[encoded data removed]",
      "text/plain": [
       "<Figure size 1296x1080 with 2 Axes>"
      ]
     },
     "metadata": {},
     "output_type": "display_data"
    }
   ],
   "source": [
    "sns.set(style='white',font_scale=2)\n",
    "corr=numerical_cols.corr()\n",
    "#mask for upper triangle\n",
    "#because lower end is same as upper end\n",
    "#thus, no upper triangle\n",
    "mask=np.zeros_like(corr,dtype=np.bool)\n",
    "mask[np.triu_indices_from(mask)]=True\n",
    "\n",
    "#setup matplot fig\n",
    "f,ax=plt.subplots(figsize=(18,15))\n",
    "f.suptitle('Correlation Matrix',fontsize=40)\n",
    "\n",
    "#generate a custom diverging colormap\n",
    "cmap=sns.diverging_palette(220,10,as_cmap=True)\n",
    "\n",
    "#\n",
    "sns.heatmap(corr,mask=mask,cmap=cmap,vmax=.3,center=0,square=True,linewidths=5,cbar_kws={'shrink':.5});"
   ]
  },
  {
   "cell_type": "markdown",
   "metadata": {},
   "source": [
    "* No correlations are too strong to be enquired into"
   ]
  },
  {
   "cell_type": "markdown",
   "metadata": {},
   "source": [
    "# Feature Engineering"
   ]
  },
  {
   "cell_type": "markdown",
   "metadata": {},
   "source": [
    "* Since months employed was all collected on the value 0, it isnt the correct representation of data & can be dropped"
   ]
  },
  {
   "cell_type": "code",
   "execution_count": 12,
   "metadata": {},
   "outputs": [],
   "source": [
    "data=data.drop(columns=['months_employed'])"
   ]
  },
  {
   "cell_type": "markdown",
   "metadata": {},
   "source": [
    "* personal account y & m columns shows the year and months in the account - but we need to combine them."
   ]
  },
  {
   "cell_type": "code",
   "execution_count": 13,
   "metadata": {},
   "outputs": [],
   "source": [
    "data['personal_acc_months']=(data.personal_account_m)+(data.personal_account_y*12)"
   ]
  },
  {
   "cell_type": "code",
   "execution_count": 14,
   "metadata": {},
   "outputs": [],
   "source": [
    "data=data.drop(columns=['personal_account_m','personal_account_y'])"
   ]
  },
  {
   "cell_type": "code",
   "execution_count": 15,
   "metadata": {},
   "outputs": [
    {
     "data": {
      "text/plain": [
       "(17908, 19)"
      ]
     },
     "execution_count": 15,
     "metadata": {},
     "output_type": "execute_result"
    }
   ],
   "source": [
    "data.shape"
   ]
  },
  {
   "cell_type": "markdown",
   "metadata": {},
   "source": [
    "# One hot Encoding"
   ]
  },
  {
   "cell_type": "code",
   "execution_count": 16,
   "metadata": {},
   "outputs": [],
   "source": [
    "data=pd.get_dummies(data)\n"
   ]
  },
  {
   "cell_type": "markdown",
   "metadata": {},
   "source": [
    "* Dummy variable trap to be avoided - since now columns would be dependent.\n",
    "* So we drop one dummy column"
   ]
  },
  {
   "cell_type": "code",
   "execution_count": 17,
   "metadata": {},
   "outputs": [
    {
     "data": {
      "text/html": [
       "<div>\n",
       "<style scoped>\n",
       "    .dataframe tbody tr th:only-of-type {\n",
       "        vertical-align: middle;\n",
       "    }\n",
       "\n",
       "    .dataframe tbody tr th {\n",
       "        vertical-align: top;\n",
       "    }\n",
       "\n",
       "    .dataframe thead th {\n",
       "        text-align: right;\n",
       "    }\n",
       "</style>\n",
       "<table border=\"1\" class=\"dataframe\">\n",
       "  <thead>\n",
       "    <tr style=\"text-align: right;\">\n",
       "      <th></th>\n",
       "      <th>entry_id</th>\n",
       "      <th>age</th>\n",
       "      <th>home_owner</th>\n",
       "      <th>income</th>\n",
       "      <th>years_employed</th>\n",
       "      <th>current_address_year</th>\n",
       "      <th>has_debt</th>\n",
       "      <th>amount_requested</th>\n",
       "      <th>risk_score</th>\n",
       "      <th>risk_score_2</th>\n",
       "      <th>risk_score_3</th>\n",
       "      <th>risk_score_4</th>\n",
       "      <th>risk_score_5</th>\n",
       "      <th>ext_quality_score</th>\n",
       "      <th>ext_quality_score_2</th>\n",
       "      <th>inquiries_last_month</th>\n",
       "      <th>e_signed</th>\n",
       "      <th>personal_acc_months</th>\n",
       "      <th>pay_schedule_bi-weekly</th>\n",
       "      <th>pay_schedule_monthly</th>\n",
       "      <th>pay_schedule_semi-monthly</th>\n",
       "      <th>pay_schedule_weekly</th>\n",
       "    </tr>\n",
       "  </thead>\n",
       "  <tbody>\n",
       "    <tr>\n",
       "      <th>0</th>\n",
       "      <td>7629673</td>\n",
       "      <td>40</td>\n",
       "      <td>1</td>\n",
       "      <td>3135</td>\n",
       "      <td>3</td>\n",
       "      <td>3</td>\n",
       "      <td>1</td>\n",
       "      <td>550</td>\n",
       "      <td>36200</td>\n",
       "      <td>0.73740</td>\n",
       "      <td>0.90352</td>\n",
       "      <td>0.48771</td>\n",
       "      <td>0.51598</td>\n",
       "      <td>0.58092</td>\n",
       "      <td>0.38092</td>\n",
       "      <td>10</td>\n",
       "      <td>1</td>\n",
       "      <td>30</td>\n",
       "      <td>1</td>\n",
       "      <td>0</td>\n",
       "      <td>0</td>\n",
       "      <td>0</td>\n",
       "    </tr>\n",
       "    <tr>\n",
       "      <th>1</th>\n",
       "      <td>3560428</td>\n",
       "      <td>61</td>\n",
       "      <td>0</td>\n",
       "      <td>3180</td>\n",
       "      <td>6</td>\n",
       "      <td>3</td>\n",
       "      <td>1</td>\n",
       "      <td>600</td>\n",
       "      <td>30150</td>\n",
       "      <td>0.73851</td>\n",
       "      <td>0.88103</td>\n",
       "      <td>0.71342</td>\n",
       "      <td>0.82640</td>\n",
       "      <td>0.73072</td>\n",
       "      <td>0.63072</td>\n",
       "      <td>9</td>\n",
       "      <td>0</td>\n",
       "      <td>86</td>\n",
       "      <td>0</td>\n",
       "      <td>0</td>\n",
       "      <td>0</td>\n",
       "      <td>1</td>\n",
       "    </tr>\n",
       "    <tr>\n",
       "      <th>2</th>\n",
       "      <td>6934997</td>\n",
       "      <td>23</td>\n",
       "      <td>0</td>\n",
       "      <td>1540</td>\n",
       "      <td>0</td>\n",
       "      <td>0</td>\n",
       "      <td>1</td>\n",
       "      <td>450</td>\n",
       "      <td>34550</td>\n",
       "      <td>0.64299</td>\n",
       "      <td>0.76655</td>\n",
       "      <td>0.59502</td>\n",
       "      <td>0.76228</td>\n",
       "      <td>0.53171</td>\n",
       "      <td>0.53171</td>\n",
       "      <td>7</td>\n",
       "      <td>0</td>\n",
       "      <td>19</td>\n",
       "      <td>0</td>\n",
       "      <td>0</td>\n",
       "      <td>0</td>\n",
       "      <td>1</td>\n",
       "    </tr>\n",
       "    <tr>\n",
       "      <th>3</th>\n",
       "      <td>5682812</td>\n",
       "      <td>40</td>\n",
       "      <td>0</td>\n",
       "      <td>5230</td>\n",
       "      <td>6</td>\n",
       "      <td>1</td>\n",
       "      <td>1</td>\n",
       "      <td>700</td>\n",
       "      <td>42150</td>\n",
       "      <td>0.66522</td>\n",
       "      <td>0.96083</td>\n",
       "      <td>0.76783</td>\n",
       "      <td>0.77883</td>\n",
       "      <td>0.79255</td>\n",
       "      <td>0.59255</td>\n",
       "      <td>8</td>\n",
       "      <td>1</td>\n",
       "      <td>86</td>\n",
       "      <td>1</td>\n",
       "      <td>0</td>\n",
       "      <td>0</td>\n",
       "      <td>0</td>\n",
       "    </tr>\n",
       "    <tr>\n",
       "      <th>4</th>\n",
       "      <td>5335819</td>\n",
       "      <td>33</td>\n",
       "      <td>0</td>\n",
       "      <td>3590</td>\n",
       "      <td>5</td>\n",
       "      <td>2</td>\n",
       "      <td>1</td>\n",
       "      <td>1100</td>\n",
       "      <td>53850</td>\n",
       "      <td>0.61736</td>\n",
       "      <td>0.85756</td>\n",
       "      <td>0.61349</td>\n",
       "      <td>0.66552</td>\n",
       "      <td>0.74463</td>\n",
       "      <td>0.74463</td>\n",
       "      <td>12</td>\n",
       "      <td>0</td>\n",
       "      <td>98</td>\n",
       "      <td>0</td>\n",
       "      <td>0</td>\n",
       "      <td>1</td>\n",
       "      <td>0</td>\n",
       "    </tr>\n",
       "  </tbody>\n",
       "</table>\n",
       "</div>"
      ],
      "text/plain": [
       "   entry_id  age  home_owner  income  years_employed  current_address_year  \\\n",
       "0   7629673   40           1    3135               3                     3   \n",
       "1   3560428   61           0    3180               6                     3   \n",
       "2   6934997   23           0    1540               0                     0   \n",
       "3   5682812   40           0    5230               6                     1   \n",
       "4   5335819   33           0    3590               5                     2   \n",
       "\n",
       "   has_debt  amount_requested  risk_score  risk_score_2  risk_score_3  \\\n",
       "0         1               550       36200       0.73740       0.90352   \n",
       "1         1               600       30150       0.73851       0.88103   \n",
       "2         1               450       34550       0.64299       0.76655   \n",
       "3         1               700       42150       0.66522       0.96083   \n",
       "4         1              1100       53850       0.61736       0.85756   \n",
       "\n",
       "   risk_score_4  risk_score_5  ext_quality_score  ext_quality_score_2  \\\n",
       "0       0.48771       0.51598            0.58092              0.38092   \n",
       "1       0.71342       0.82640            0.73072              0.63072   \n",
       "2       0.59502       0.76228            0.53171              0.53171   \n",
       "3       0.76783       0.77883            0.79255              0.59255   \n",
       "4       0.61349       0.66552            0.74463              0.74463   \n",
       "\n",
       "   inquiries_last_month  e_signed  personal_acc_months  \\\n",
       "0                    10         1                   30   \n",
       "1                     9         0                   86   \n",
       "2                     7         0                   19   \n",
       "3                     8         1                   86   \n",
       "4                    12         0                   98   \n",
       "\n",
       "   pay_schedule_bi-weekly  pay_schedule_monthly  pay_schedule_semi-monthly  \\\n",
       "0                       1                     0                          0   \n",
       "1                       0                     0                          0   \n",
       "2                       0                     0                          0   \n",
       "3                       1                     0                          0   \n",
       "4                       0                     0                          1   \n",
       "\n",
       "   pay_schedule_weekly  \n",
       "0                    0  \n",
       "1                    1  \n",
       "2                    1  \n",
       "3                    0  \n",
       "4                    0  "
      ]
     },
     "execution_count": 17,
     "metadata": {},
     "output_type": "execute_result"
    }
   ],
   "source": [
    "pd.set_option('display.max_columns',None)\n",
    "data.head()"
   ]
  },
  {
   "cell_type": "code",
   "execution_count": 18,
   "metadata": {},
   "outputs": [],
   "source": [
    "data=data.drop(columns=['pay_schedule_semi-monthly'])"
   ]
  },
  {
   "cell_type": "markdown",
   "metadata": {},
   "source": [
    "## Remove columns not needed for training\n",
    "* Remove response variable\n",
    "* and entry_id"
   ]
  },
  {
   "cell_type": "code",
   "execution_count": 19,
   "metadata": {},
   "outputs": [],
   "source": [
    "response=data['e_signed']\n",
    "users=data['entry_id']\n",
    "data=data.drop(columns=['e_signed','entry_id'])"
   ]
  },
  {
   "cell_type": "markdown",
   "metadata": {},
   "source": [
    "# Split train test"
   ]
  },
  {
   "cell_type": "code",
   "execution_count": 20,
   "metadata": {},
   "outputs": [],
   "source": [
    "from sklearn.model_selection import train_test_split"
   ]
  },
  {
   "cell_type": "code",
   "execution_count": 21,
   "metadata": {},
   "outputs": [],
   "source": [
    "X_train,X_test,y_train,y_test=train_test_split(data,response,test_size=0.2)"
   ]
  },
  {
   "cell_type": "code",
   "execution_count": 22,
   "metadata": {},
   "outputs": [
    {
     "data": {
      "text/plain": [
       "((14326, 19), (3582, 19))"
      ]
     },
     "execution_count": 22,
     "metadata": {},
     "output_type": "execute_result"
    }
   ],
   "source": [
    "X_train.shape,X_test.shape"
   ]
  },
  {
   "cell_type": "markdown",
   "metadata": {},
   "source": [
    "# Feature Scaling"
   ]
  },
  {
   "cell_type": "code",
   "execution_count": 23,
   "metadata": {},
   "outputs": [],
   "source": [
    "from sklearn.preprocessing import StandardScaler"
   ]
  },
  {
   "cell_type": "code",
   "execution_count": 24,
   "metadata": {},
   "outputs": [],
   "source": [
    "sc=StandardScaler()"
   ]
  },
  {
   "cell_type": "code",
   "execution_count": 25,
   "metadata": {},
   "outputs": [],
   "source": [
    "X_train2=pd.DataFrame(sc.fit_transform(X_train))\n",
    "X_test2=pd.DataFrame(sc.transform(X_test))"
   ]
  },
  {
   "cell_type": "code",
   "execution_count": 26,
   "metadata": {},
   "outputs": [],
   "source": [
    "X_train2.columns=X_train.columns.values"
   ]
  },
  {
   "cell_type": "code",
   "execution_count": 27,
   "metadata": {},
   "outputs": [],
   "source": [
    "X_test2.columns=X_test.columns.values"
   ]
  },
  {
   "cell_type": "code",
   "execution_count": 28,
   "metadata": {},
   "outputs": [],
   "source": [
    "X_train2.index=X_train.index.values\n",
    "X_test2.index=X_test.index.values"
   ]
  },
  {
   "cell_type": "code",
   "execution_count": 29,
   "metadata": {},
   "outputs": [],
   "source": [
    "X_train=X_train2\n",
    "X_test=X_test2"
   ]
  },
  {
   "cell_type": "code",
   "execution_count": 30,
   "metadata": {},
   "outputs": [
    {
     "data": {
      "text/html": [
       "<div>\n",
       "<style scoped>\n",
       "    .dataframe tbody tr th:only-of-type {\n",
       "        vertical-align: middle;\n",
       "    }\n",
       "\n",
       "    .dataframe tbody tr th {\n",
       "        vertical-align: top;\n",
       "    }\n",
       "\n",
       "    .dataframe thead th {\n",
       "        text-align: right;\n",
       "    }\n",
       "</style>\n",
       "<table border=\"1\" class=\"dataframe\">\n",
       "  <thead>\n",
       "    <tr style=\"text-align: right;\">\n",
       "      <th></th>\n",
       "      <th>age</th>\n",
       "      <th>home_owner</th>\n",
       "      <th>income</th>\n",
       "      <th>years_employed</th>\n",
       "      <th>current_address_year</th>\n",
       "      <th>has_debt</th>\n",
       "      <th>amount_requested</th>\n",
       "      <th>risk_score</th>\n",
       "      <th>risk_score_2</th>\n",
       "      <th>risk_score_3</th>\n",
       "      <th>risk_score_4</th>\n",
       "      <th>risk_score_5</th>\n",
       "      <th>ext_quality_score</th>\n",
       "      <th>ext_quality_score_2</th>\n",
       "      <th>inquiries_last_month</th>\n",
       "      <th>personal_acc_months</th>\n",
       "      <th>pay_schedule_bi-weekly</th>\n",
       "      <th>pay_schedule_monthly</th>\n",
       "      <th>pay_schedule_weekly</th>\n",
       "    </tr>\n",
       "  </thead>\n",
       "  <tbody>\n",
       "    <tr>\n",
       "      <th>4243</th>\n",
       "      <td>-0.75464</td>\n",
       "      <td>-0.85733</td>\n",
       "      <td>2.16053</td>\n",
       "      <td>-0.67095</td>\n",
       "      <td>-0.94040</td>\n",
       "      <td>0.50934</td>\n",
       "      <td>-0.21646</td>\n",
       "      <td>1.30543</td>\n",
       "      <td>0.09164</td>\n",
       "      <td>-0.44256</td>\n",
       "      <td>0.06625</td>\n",
       "      <td>0.77275</td>\n",
       "      <td>-1.32603</td>\n",
       "      <td>-0.59699</td>\n",
       "      <td>0.70056</td>\n",
       "      <td>-0.31815</td>\n",
       "      <td>-1.22268</td>\n",
       "      <td>-0.30085</td>\n",
       "      <td>-0.50869</td>\n",
       "    </tr>\n",
       "    <tr>\n",
       "      <th>4518</th>\n",
       "      <td>-0.50203</td>\n",
       "      <td>1.16641</td>\n",
       "      <td>1.60682</td>\n",
       "      <td>0.65625</td>\n",
       "      <td>-0.94040</td>\n",
       "      <td>0.50934</td>\n",
       "      <td>0.35597</td>\n",
       "      <td>-0.51915</td>\n",
       "      <td>-1.94985</td>\n",
       "      <td>-0.52303</td>\n",
       "      <td>0.36827</td>\n",
       "      <td>0.82730</td>\n",
       "      <td>-0.99135</td>\n",
       "      <td>-0.26317</td>\n",
       "      <td>0.15099</td>\n",
       "      <td>-0.10375</td>\n",
       "      <td>0.81787</td>\n",
       "      <td>-0.30085</td>\n",
       "      <td>-0.50869</td>\n",
       "    </tr>\n",
       "    <tr>\n",
       "      <th>9025</th>\n",
       "      <td>-1.17567</td>\n",
       "      <td>-0.85733</td>\n",
       "      <td>-0.70477</td>\n",
       "      <td>0.21385</td>\n",
       "      <td>-0.21073</td>\n",
       "      <td>-1.96332</td>\n",
       "      <td>-0.50268</td>\n",
       "      <td>0.46606</td>\n",
       "      <td>-0.99154</td>\n",
       "      <td>-0.33698</td>\n",
       "      <td>-1.85783</td>\n",
       "      <td>-1.03628</td>\n",
       "      <td>-0.63889</td>\n",
       "      <td>-0.62694</td>\n",
       "      <td>0.15099</td>\n",
       "      <td>0.66810</td>\n",
       "      <td>0.81787</td>\n",
       "      <td>-0.30085</td>\n",
       "      <td>-0.50869</td>\n",
       "    </tr>\n",
       "    <tr>\n",
       "      <th>4314</th>\n",
       "      <td>-1.09146</td>\n",
       "      <td>-0.85733</td>\n",
       "      <td>1.90703</td>\n",
       "      <td>-0.67095</td>\n",
       "      <td>-1.30523</td>\n",
       "      <td>0.50934</td>\n",
       "      <td>-0.64578</td>\n",
       "      <td>-1.48816</td>\n",
       "      <td>-0.26818</td>\n",
       "      <td>-0.05131</td>\n",
       "      <td>-1.82479</td>\n",
       "      <td>-1.26149</td>\n",
       "      <td>-0.94561</td>\n",
       "      <td>0.49777</td>\n",
       "      <td>1.25013</td>\n",
       "      <td>-0.31815</td>\n",
       "      <td>0.81787</td>\n",
       "      <td>-0.30085</td>\n",
       "      <td>-0.50869</td>\n",
       "    </tr>\n",
       "    <tr>\n",
       "      <th>13143</th>\n",
       "      <td>-1.17567</td>\n",
       "      <td>-0.85733</td>\n",
       "      <td>-0.67475</td>\n",
       "      <td>0.65625</td>\n",
       "      <td>0.51893</td>\n",
       "      <td>0.50934</td>\n",
       "      <td>0.35597</td>\n",
       "      <td>-1.85114</td>\n",
       "      <td>-1.60001</td>\n",
       "      <td>-0.35941</td>\n",
       "      <td>-1.18406</td>\n",
       "      <td>-0.33618</td>\n",
       "      <td>1.41282</td>\n",
       "      <td>-0.72653</td>\n",
       "      <td>-0.67336</td>\n",
       "      <td>-0.36104</td>\n",
       "      <td>0.81787</td>\n",
       "      <td>-0.30085</td>\n",
       "      <td>-0.50869</td>\n",
       "    </tr>\n",
       "  </tbody>\n",
       "</table>\n",
       "</div>"
      ],
      "text/plain": [
       "           age  home_owner   income  years_employed  current_address_year  \\\n",
       "4243  -0.75464    -0.85733  2.16053        -0.67095              -0.94040   \n",
       "4518  -0.50203     1.16641  1.60682         0.65625              -0.94040   \n",
       "9025  -1.17567    -0.85733 -0.70477         0.21385              -0.21073   \n",
       "4314  -1.09146    -0.85733  1.90703        -0.67095              -1.30523   \n",
       "13143 -1.17567    -0.85733 -0.67475         0.65625               0.51893   \n",
       "\n",
       "       has_debt  amount_requested  risk_score  risk_score_2  risk_score_3  \\\n",
       "4243    0.50934          -0.21646     1.30543       0.09164      -0.44256   \n",
       "4518    0.50934           0.35597    -0.51915      -1.94985      -0.52303   \n",
       "9025   -1.96332          -0.50268     0.46606      -0.99154      -0.33698   \n",
       "4314    0.50934          -0.64578    -1.48816      -0.26818      -0.05131   \n",
       "13143   0.50934           0.35597    -1.85114      -1.60001      -0.35941   \n",
       "\n",
       "       risk_score_4  risk_score_5  ext_quality_score  ext_quality_score_2  \\\n",
       "4243        0.06625       0.77275           -1.32603             -0.59699   \n",
       "4518        0.36827       0.82730           -0.99135             -0.26317   \n",
       "9025       -1.85783      -1.03628           -0.63889             -0.62694   \n",
       "4314       -1.82479      -1.26149           -0.94561              0.49777   \n",
       "13143      -1.18406      -0.33618            1.41282             -0.72653   \n",
       "\n",
       "       inquiries_last_month  personal_acc_months  pay_schedule_bi-weekly  \\\n",
       "4243                0.70056             -0.31815                -1.22268   \n",
       "4518                0.15099             -0.10375                 0.81787   \n",
       "9025                0.15099              0.66810                 0.81787   \n",
       "4314                1.25013             -0.31815                 0.81787   \n",
       "13143              -0.67336             -0.36104                 0.81787   \n",
       "\n",
       "       pay_schedule_monthly  pay_schedule_weekly  \n",
       "4243               -0.30085             -0.50869  \n",
       "4518               -0.30085             -0.50869  \n",
       "9025               -0.30085             -0.50869  \n",
       "4314               -0.30085             -0.50869  \n",
       "13143              -0.30085             -0.50869  "
      ]
     },
     "execution_count": 30,
     "metadata": {},
     "output_type": "execute_result"
    }
   ],
   "source": [
    "X_train.head()"
   ]
  },
  {
   "cell_type": "code",
   "execution_count": 144,
   "metadata": {},
   "outputs": [],
   "source": [
    "user_test=users[X_test.index]"
   ]
  },
  {
   "cell_type": "markdown",
   "metadata": {},
   "source": [
    "# Model Building"
   ]
  },
  {
   "cell_type": "markdown",
   "metadata": {},
   "source": [
    "* Models to be tried -\n",
    "    * Logistic Regression\n",
    "    * SVM - Linear and RBF\n",
    "    * Random Forest"
   ]
  },
  {
   "cell_type": "code",
   "execution_count": 31,
   "metadata": {},
   "outputs": [],
   "source": [
    "from sklearn.linear_model import LogisticRegression"
   ]
  },
  {
   "cell_type": "code",
   "execution_count": 32,
   "metadata": {},
   "outputs": [],
   "source": [
    "log_clf=LogisticRegression(penalty='l1',solver='liblinear')"
   ]
  },
  {
   "cell_type": "code",
   "execution_count": 33,
   "metadata": {},
   "outputs": [
    {
     "data": {
      "text/plain": [
       "LogisticRegression(penalty='l1', solver='liblinear')"
      ]
     },
     "execution_count": 33,
     "metadata": {},
     "output_type": "execute_result"
    }
   ],
   "source": [
    "log_clf.fit(X_train,y_train)"
   ]
  },
  {
   "cell_type": "markdown",
   "metadata": {},
   "source": [
    "## Predict test set"
   ]
  },
  {
   "cell_type": "code",
   "execution_count": 34,
   "metadata": {},
   "outputs": [],
   "source": [
    "y_pred=log_clf.predict(X_test)"
   ]
  },
  {
   "cell_type": "markdown",
   "metadata": {},
   "source": [
    "## Evaluation Metrics"
   ]
  },
  {
   "cell_type": "code",
   "execution_count": 35,
   "metadata": {},
   "outputs": [],
   "source": [
    "from sklearn.metrics import accuracy_score,precision_score,recall_score,f1_score,confusion_matrix"
   ]
  },
  {
   "cell_type": "code",
   "execution_count": 36,
   "metadata": {},
   "outputs": [],
   "source": [
    "acc=accuracy_score(y_test,y_pred)"
   ]
  },
  {
   "cell_type": "code",
   "execution_count": 37,
   "metadata": {},
   "outputs": [],
   "source": [
    "pre=precision_score(y_test,y_pred)"
   ]
  },
  {
   "cell_type": "code",
   "execution_count": 38,
   "metadata": {},
   "outputs": [],
   "source": [
    "rec=recall_score(y_test,y_pred)"
   ]
  },
  {
   "cell_type": "code",
   "execution_count": 39,
   "metadata": {},
   "outputs": [],
   "source": [
    "f1=f1_score(y_test,y_pred)"
   ]
  },
  {
   "cell_type": "code",
   "execution_count": 40,
   "metadata": {},
   "outputs": [],
   "source": [
    "results=pd.DataFrame([['Logistic Regression(Lasso)',acc,pre,rec,f1]],columns=['Model_Name','Accuracy','Precision','Recall','F1-Score'])"
   ]
  },
  {
   "cell_type": "markdown",
   "metadata": {},
   "source": [
    "# SVM"
   ]
  },
  {
   "cell_type": "code",
   "execution_count": 41,
   "metadata": {},
   "outputs": [],
   "source": [
    "from sklearn.svm import SVC"
   ]
  },
  {
   "cell_type": "code",
   "execution_count": 42,
   "metadata": {},
   "outputs": [],
   "source": [
    "svc_clf=SVC(kernel='linear')\n",
    "svc_clf.fit(X_train,y_train)\n",
    "y_pred=svc_clf.predict(X_test)"
   ]
  },
  {
   "cell_type": "code",
   "execution_count": 43,
   "metadata": {},
   "outputs": [],
   "source": [
    "acc=accuracy_score(y_test,y_pred)\n",
    "pre=precision_score(y_test,y_pred)\n",
    "rec=recall_score(y_test,y_pred)\n",
    "f1=f1_score(y_test,y_pred)"
   ]
  },
  {
   "cell_type": "code",
   "execution_count": 44,
   "metadata": {},
   "outputs": [],
   "source": [
    "results=results.append(pd.DataFrame([['SVM_linear',acc,pre,rec,f1]],columns=['Model_Name','Accuracy','Precision','Recall','F1-Score']),ignore_index=True)"
   ]
  },
  {
   "cell_type": "code",
   "execution_count": 45,
   "metadata": {},
   "outputs": [
    {
     "data": {
      "text/html": [
       "<div>\n",
       "<style scoped>\n",
       "    .dataframe tbody tr th:only-of-type {\n",
       "        vertical-align: middle;\n",
       "    }\n",
       "\n",
       "    .dataframe tbody tr th {\n",
       "        vertical-align: top;\n",
       "    }\n",
       "\n",
       "    .dataframe thead th {\n",
       "        text-align: right;\n",
       "    }\n",
       "</style>\n",
       "<table border=\"1\" class=\"dataframe\">\n",
       "  <thead>\n",
       "    <tr style=\"text-align: right;\">\n",
       "      <th></th>\n",
       "      <th>Model_Name</th>\n",
       "      <th>Accuracy</th>\n",
       "      <th>Precision</th>\n",
       "      <th>Recall</th>\n",
       "      <th>F1-Score</th>\n",
       "    </tr>\n",
       "  </thead>\n",
       "  <tbody>\n",
       "    <tr>\n",
       "      <th>0</th>\n",
       "      <td>Logistic Regression(Lasso)</td>\n",
       "      <td>0.57231</td>\n",
       "      <td>0.57149</td>\n",
       "      <td>0.73989</td>\n",
       "      <td>0.64488</td>\n",
       "    </tr>\n",
       "    <tr>\n",
       "      <th>1</th>\n",
       "      <td>SVM_linear</td>\n",
       "      <td>0.57426</td>\n",
       "      <td>0.57114</td>\n",
       "      <td>0.75798</td>\n",
       "      <td>0.65143</td>\n",
       "    </tr>\n",
       "  </tbody>\n",
       "</table>\n",
       "</div>"
      ],
      "text/plain": [
       "                   Model_Name  Accuracy  Precision  Recall  F1-Score\n",
       "0  Logistic Regression(Lasso)   0.57231    0.57149 0.73989   0.64488\n",
       "1                  SVM_linear   0.57426    0.57114 0.75798   0.65143"
      ]
     },
     "execution_count": 45,
     "metadata": {},
     "output_type": "execute_result"
    }
   ],
   "source": [
    "results"
   ]
  },
  {
   "cell_type": "markdown",
   "metadata": {},
   "source": [
    "* When recall is high - it could be because the model has remembered the training set."
   ]
  },
  {
   "cell_type": "markdown",
   "metadata": {},
   "source": [
    "# SVM (RBF)"
   ]
  },
  {
   "cell_type": "code",
   "execution_count": 46,
   "metadata": {},
   "outputs": [],
   "source": [
    "svc_rbf_clf=SVC(kernel='rbf')\n",
    "svc_rbf_clf.fit(X_train,y_train)\n",
    "y_pred=svc_rbf_clf.predict(X_test)"
   ]
  },
  {
   "cell_type": "code",
   "execution_count": 47,
   "metadata": {},
   "outputs": [],
   "source": [
    "acc=accuracy_score(y_test,y_pred)\n",
    "pre=precision_score(y_test,y_pred)\n",
    "rec=recall_score(y_test,y_pred)\n",
    "f1=f1_score(y_test,y_pred)"
   ]
  },
  {
   "cell_type": "code",
   "execution_count": 48,
   "metadata": {},
   "outputs": [],
   "source": [
    "results=results.append(pd.DataFrame([['SVM_rbf',acc,pre,rec,f1]],columns=['Model_Name','Accuracy','Precision','Recall','F1-Score']),ignore_index=True)"
   ]
  },
  {
   "cell_type": "code",
   "execution_count": 49,
   "metadata": {},
   "outputs": [
    {
     "data": {
      "text/html": [
       "<div>\n",
       "<style scoped>\n",
       "    .dataframe tbody tr th:only-of-type {\n",
       "        vertical-align: middle;\n",
       "    }\n",
       "\n",
       "    .dataframe tbody tr th {\n",
       "        vertical-align: top;\n",
       "    }\n",
       "\n",
       "    .dataframe thead th {\n",
       "        text-align: right;\n",
       "    }\n",
       "</style>\n",
       "<table border=\"1\" class=\"dataframe\">\n",
       "  <thead>\n",
       "    <tr style=\"text-align: right;\">\n",
       "      <th></th>\n",
       "      <th>Model_Name</th>\n",
       "      <th>Accuracy</th>\n",
       "      <th>Precision</th>\n",
       "      <th>Recall</th>\n",
       "      <th>F1-Score</th>\n",
       "    </tr>\n",
       "  </thead>\n",
       "  <tbody>\n",
       "    <tr>\n",
       "      <th>0</th>\n",
       "      <td>Logistic Regression(Lasso)</td>\n",
       "      <td>0.57231</td>\n",
       "      <td>0.57149</td>\n",
       "      <td>0.73989</td>\n",
       "      <td>0.64488</td>\n",
       "    </tr>\n",
       "    <tr>\n",
       "      <th>1</th>\n",
       "      <td>SVM_linear</td>\n",
       "      <td>0.57426</td>\n",
       "      <td>0.57114</td>\n",
       "      <td>0.75798</td>\n",
       "      <td>0.65143</td>\n",
       "    </tr>\n",
       "    <tr>\n",
       "      <th>2</th>\n",
       "      <td>SVM_rbf</td>\n",
       "      <td>0.60162</td>\n",
       "      <td>0.60180</td>\n",
       "      <td>0.71223</td>\n",
       "      <td>0.65238</td>\n",
       "    </tr>\n",
       "  </tbody>\n",
       "</table>\n",
       "</div>"
      ],
      "text/plain": [
       "                   Model_Name  Accuracy  Precision  Recall  F1-Score\n",
       "0  Logistic Regression(Lasso)   0.57231    0.57149 0.73989   0.64488\n",
       "1                  SVM_linear   0.57426    0.57114 0.75798   0.65143\n",
       "2                     SVM_rbf   0.60162    0.60180 0.71223   0.65238"
      ]
     },
     "execution_count": 49,
     "metadata": {},
     "output_type": "execute_result"
    }
   ],
   "source": [
    "results"
   ]
  },
  {
   "cell_type": "markdown",
   "metadata": {},
   "source": [
    "# Random Forest"
   ]
  },
  {
   "cell_type": "code",
   "execution_count": 50,
   "metadata": {},
   "outputs": [],
   "source": [
    "from sklearn.ensemble import RandomForestClassifier"
   ]
  },
  {
   "cell_type": "code",
   "execution_count": 51,
   "metadata": {},
   "outputs": [],
   "source": [
    "fr_clf=RandomForestClassifier(n_estimators=100,criterion='entropy')\n",
    "fr_clf.fit(X_train,y_train)\n",
    "y_pred=fr_clf.predict(X_test)"
   ]
  },
  {
   "cell_type": "code",
   "execution_count": 52,
   "metadata": {},
   "outputs": [],
   "source": [
    "acc=accuracy_score(y_test,y_pred)\n",
    "pre=precision_score(y_test,y_pred)\n",
    "rec=recall_score(y_test,y_pred)\n",
    "f1=f1_score(y_test,y_pred)"
   ]
  },
  {
   "cell_type": "code",
   "execution_count": 53,
   "metadata": {},
   "outputs": [],
   "source": [
    "results=results.append(pd.DataFrame([['Random_Forest(n=100)',acc,pre,rec,f1]],columns=['Model_Name','Accuracy','Precision','Recall','F1-Score']),ignore_index=True)"
   ]
  },
  {
   "cell_type": "code",
   "execution_count": 54,
   "metadata": {},
   "outputs": [
    {
     "data": {
      "text/html": [
       "<div>\n",
       "<style scoped>\n",
       "    .dataframe tbody tr th:only-of-type {\n",
       "        vertical-align: middle;\n",
       "    }\n",
       "\n",
       "    .dataframe tbody tr th {\n",
       "        vertical-align: top;\n",
       "    }\n",
       "\n",
       "    .dataframe thead th {\n",
       "        text-align: right;\n",
       "    }\n",
       "</style>\n",
       "<table border=\"1\" class=\"dataframe\">\n",
       "  <thead>\n",
       "    <tr style=\"text-align: right;\">\n",
       "      <th></th>\n",
       "      <th>Model_Name</th>\n",
       "      <th>Accuracy</th>\n",
       "      <th>Precision</th>\n",
       "      <th>Recall</th>\n",
       "      <th>F1-Score</th>\n",
       "    </tr>\n",
       "  </thead>\n",
       "  <tbody>\n",
       "    <tr>\n",
       "      <th>0</th>\n",
       "      <td>Logistic Regression(Lasso)</td>\n",
       "      <td>0.57231</td>\n",
       "      <td>0.57149</td>\n",
       "      <td>0.73989</td>\n",
       "      <td>0.64488</td>\n",
       "    </tr>\n",
       "    <tr>\n",
       "      <th>1</th>\n",
       "      <td>SVM_linear</td>\n",
       "      <td>0.57426</td>\n",
       "      <td>0.57114</td>\n",
       "      <td>0.75798</td>\n",
       "      <td>0.65143</td>\n",
       "    </tr>\n",
       "    <tr>\n",
       "      <th>2</th>\n",
       "      <td>SVM_rbf</td>\n",
       "      <td>0.60162</td>\n",
       "      <td>0.60180</td>\n",
       "      <td>0.71223</td>\n",
       "      <td>0.65238</td>\n",
       "    </tr>\n",
       "    <tr>\n",
       "      <th>3</th>\n",
       "      <td>Random_Forest(n=100)</td>\n",
       "      <td>0.62814</td>\n",
       "      <td>0.63048</td>\n",
       "      <td>0.70426</td>\n",
       "      <td>0.66533</td>\n",
       "    </tr>\n",
       "  </tbody>\n",
       "</table>\n",
       "</div>"
      ],
      "text/plain": [
       "                   Model_Name  Accuracy  Precision  Recall  F1-Score\n",
       "0  Logistic Regression(Lasso)   0.57231    0.57149 0.73989   0.64488\n",
       "1                  SVM_linear   0.57426    0.57114 0.75798   0.65143\n",
       "2                     SVM_rbf   0.60162    0.60180 0.71223   0.65238\n",
       "3        Random_Forest(n=100)   0.62814    0.63048 0.70426   0.66533"
      ]
     },
     "execution_count": 54,
     "metadata": {},
     "output_type": "execute_result"
    }
   ],
   "source": [
    "results"
   ]
  },
  {
   "cell_type": "markdown",
   "metadata": {},
   "source": [
    "* Our Random Forest was most accurate with good performance on all four metrics (not skewed in any)."
   ]
  },
  {
   "cell_type": "markdown",
   "metadata": {},
   "source": [
    "# K-Fold Cross Validation"
   ]
  },
  {
   "cell_type": "code",
   "execution_count": 55,
   "metadata": {},
   "outputs": [],
   "source": [
    "from sklearn.model_selection import cross_val_score"
   ]
  },
  {
   "cell_type": "code",
   "execution_count": 56,
   "metadata": {},
   "outputs": [],
   "source": [
    "accuracies=cross_val_score(estimator=fr_clf,X=X_train,y=y_train,cv=10)"
   ]
  },
  {
   "cell_type": "code",
   "execution_count": 57,
   "metadata": {},
   "outputs": [
    {
     "name": "stdout",
     "output_type": "stream",
     "text": [
      "Random Forest Classifier Accuracy: 0.63 (+/- 0.02)\n"
     ]
    }
   ],
   "source": [
    "print(\"Random Forest Classifier Accuracy: %0.2f (+/- %0.2f)\"%(accuracies.mean(),accuracies.std()*2))"
   ]
  },
  {
   "cell_type": "markdown",
   "metadata": {},
   "source": [
    "* Confirms that model is consistent across all data & no subset of data can spoil our model."
   ]
  },
  {
   "cell_type": "markdown",
   "metadata": {},
   "source": [
    "# Find best parameters - GRID SEARCH"
   ]
  },
  {
   "cell_type": "code",
   "execution_count": 58,
   "metadata": {},
   "outputs": [],
   "source": [
    "#Entropy\n",
    "parameters={'max_depth':[2,3,4],\n",
    "           'max_features':[1,5,10],\n",
    "           'min_samples_split':[2,5,10],\n",
    "           'min_samples_leaf':[1,5,10],\n",
    "           'bootstrap':[True,False],\n",
    "           'criterion':['entropy']}"
   ]
  },
  {
   "cell_type": "code",
   "execution_count": 59,
   "metadata": {},
   "outputs": [],
   "source": [
    "from sklearn.model_selection import GridSearchCV"
   ]
  },
  {
   "cell_type": "code",
   "execution_count": 64,
   "metadata": {},
   "outputs": [],
   "source": [
    "grid_cv=GridSearchCV(estimator=fr_clf,param_grid=parameters,scoring='accuracy',cv=10,n_jobs=-1)"
   ]
  },
  {
   "cell_type": "code",
   "execution_count": 65,
   "metadata": {},
   "outputs": [],
   "source": [
    "t0=time.time()"
   ]
  },
  {
   "cell_type": "code",
   "execution_count": 66,
   "metadata": {},
   "outputs": [
    {
     "data": {
      "text/plain": [
       "GridSearchCV(cv=10, estimator=RandomForestClassifier(criterion='entropy'),\n",
       "             n_jobs=-1,\n",
       "             param_grid={'bootstrap': [True, False], 'criterion': ['entropy'],\n",
       "                         'max_depth': [2, 3, 4], 'max_features': [1, 5, 10],\n",
       "                         'min_samples_leaf': [1, 5, 10],\n",
       "                         'min_samples_split': [2, 5, 10]},\n",
       "             scoring='accuracy')"
      ]
     },
     "execution_count": 66,
     "metadata": {},
     "output_type": "execute_result"
    }
   ],
   "source": [
    "grid_cv.fit(X_train,y_train)"
   ]
  },
  {
   "cell_type": "code",
   "execution_count": 67,
   "metadata": {},
   "outputs": [],
   "source": [
    "t1=time.time()"
   ]
  },
  {
   "cell_type": "code",
   "execution_count": 68,
   "metadata": {},
   "outputs": [
    {
     "name": "stdout",
     "output_type": "stream",
     "text": [
      "Took 417.90 seconds\n"
     ]
    }
   ],
   "source": [
    "print(\"Took %0.2f seconds\"%(t1-t0))"
   ]
  },
  {
   "cell_type": "code",
   "execution_count": 69,
   "metadata": {},
   "outputs": [
    {
     "data": {
      "text/plain": [
       "RandomForestClassifier(bootstrap=False, criterion='entropy', max_depth=4,\n",
       "                       max_features=5, min_samples_split=5)"
      ]
     },
     "execution_count": 69,
     "metadata": {},
     "output_type": "execute_result"
    }
   ],
   "source": [
    "grid_cv.best_estimator_"
   ]
  },
  {
   "cell_type": "code",
   "execution_count": 70,
   "metadata": {},
   "outputs": [],
   "source": [
    "rf_best_accuracy=grid_cv.best_score_"
   ]
  },
  {
   "cell_type": "code",
   "execution_count": 71,
   "metadata": {},
   "outputs": [],
   "source": [
    "rf_best_params=grid_cv.best_params_"
   ]
  },
  {
   "cell_type": "code",
   "execution_count": 72,
   "metadata": {},
   "outputs": [
    {
     "data": {
      "text/plain": [
       "0.6097279508941277"
      ]
     },
     "execution_count": 72,
     "metadata": {},
     "output_type": "execute_result"
    }
   ],
   "source": [
    "rf_best_accuracy"
   ]
  },
  {
   "cell_type": "code",
   "execution_count": 73,
   "metadata": {},
   "outputs": [
    {
     "data": {
      "text/plain": [
       "{'bootstrap': False,\n",
       " 'criterion': 'entropy',\n",
       " 'max_depth': 4,\n",
       " 'max_features': 5,\n",
       " 'min_samples_leaf': 1,\n",
       " 'min_samples_split': 5}"
      ]
     },
     "execution_count": 73,
     "metadata": {},
     "output_type": "execute_result"
    }
   ],
   "source": [
    "rf_best_params"
   ]
  },
  {
   "cell_type": "markdown",
   "metadata": {},
   "source": [
    "* Accuracy isn't great, we can try some more parameters"
   ]
  },
  {
   "cell_type": "markdown",
   "metadata": {},
   "source": [
    "# Second round of gridsearch"
   ]
  },
  {
   "cell_type": "code",
   "execution_count": 95,
   "metadata": {},
   "outputs": [],
   "source": [
    "parameters={'max_depth':[4,5],\n",
    "           'max_features':[4,5,6],\n",
    "           'min_samples_split':[4,5,6],\n",
    "           'min_samples_leaf':[1,2,3],\n",
    "           'bootstrap':[False],\n",
    "           'criterion':['entropy']}"
   ]
  },
  {
   "cell_type": "code",
   "execution_count": 96,
   "metadata": {},
   "outputs": [],
   "source": [
    "grid_cv=GridSearchCV(estimator=fr_clf,param_grid=parameters,scoring='accuracy',cv=10,n_jobs=-1)"
   ]
  },
  {
   "cell_type": "code",
   "execution_count": 97,
   "metadata": {},
   "outputs": [],
   "source": [
    "t0=time.time()\n",
    "grid_cv.fit(X_train,y_train)\n",
    "t1=time.time()"
   ]
  },
  {
   "cell_type": "code",
   "execution_count": 98,
   "metadata": {},
   "outputs": [
    {
     "name": "stdout",
     "output_type": "stream",
     "text": [
      "Took 228.29 seconds\n"
     ]
    }
   ],
   "source": [
    "print(\"Took %0.2f seconds\"%(t1-t0))"
   ]
  },
  {
   "cell_type": "code",
   "execution_count": 99,
   "metadata": {},
   "outputs": [],
   "source": [
    "rf_best_accuracy=grid_cv.best_score_"
   ]
  },
  {
   "cell_type": "code",
   "execution_count": 100,
   "metadata": {},
   "outputs": [],
   "source": [
    "rf_best_params=grid_cv.best_params_"
   ]
  },
  {
   "cell_type": "code",
   "execution_count": 101,
   "metadata": {},
   "outputs": [
    {
     "data": {
      "text/plain": [
       "0.6158705707836433"
      ]
     },
     "execution_count": 101,
     "metadata": {},
     "output_type": "execute_result"
    }
   ],
   "source": [
    "rf_best_accuracy"
   ]
  },
  {
   "cell_type": "code",
   "execution_count": 102,
   "metadata": {},
   "outputs": [
    {
     "data": {
      "text/plain": [
       "{'bootstrap': False,\n",
       " 'criterion': 'entropy',\n",
       " 'max_depth': 5,\n",
       " 'max_features': 6,\n",
       " 'min_samples_leaf': 2,\n",
       " 'min_samples_split': 5}"
      ]
     },
     "execution_count": 102,
     "metadata": {},
     "output_type": "execute_result"
    }
   ],
   "source": [
    "rf_best_params"
   ]
  },
  {
   "cell_type": "code",
   "execution_count": 103,
   "metadata": {},
   "outputs": [],
   "source": [
    "y_pred=grid_cv.predict(X_test)"
   ]
  },
  {
   "cell_type": "code",
   "execution_count": 104,
   "metadata": {},
   "outputs": [],
   "source": [
    "acc=accuracy_score(y_test,y_pred)\n",
    "pre=precision_score(y_test,y_pred)\n",
    "rec=recall_score(y_test,y_pred)\n",
    "f1=f1_score(y_test,y_pred)"
   ]
  },
  {
   "cell_type": "code",
   "execution_count": 105,
   "metadata": {},
   "outputs": [],
   "source": [
    "results=results.append(pd.DataFrame([['Random_Forest(n=100,GS+Entropy)',acc,pre,rec,f1]],columns=['Model_Name','Accuracy','Precision','Recall','F1-Score']),ignore_index=True)"
   ]
  },
  {
   "cell_type": "code",
   "execution_count": 106,
   "metadata": {},
   "outputs": [
    {
     "data": {
      "text/html": [
       "<div>\n",
       "<style scoped>\n",
       "    .dataframe tbody tr th:only-of-type {\n",
       "        vertical-align: middle;\n",
       "    }\n",
       "\n",
       "    .dataframe tbody tr th {\n",
       "        vertical-align: top;\n",
       "    }\n",
       "\n",
       "    .dataframe thead th {\n",
       "        text-align: right;\n",
       "    }\n",
       "</style>\n",
       "<table border=\"1\" class=\"dataframe\">\n",
       "  <thead>\n",
       "    <tr style=\"text-align: right;\">\n",
       "      <th></th>\n",
       "      <th>Model_Name</th>\n",
       "      <th>Accuracy</th>\n",
       "      <th>Precision</th>\n",
       "      <th>Recall</th>\n",
       "      <th>F1-Score</th>\n",
       "    </tr>\n",
       "  </thead>\n",
       "  <tbody>\n",
       "    <tr>\n",
       "      <th>0</th>\n",
       "      <td>Logistic Regression(Lasso)</td>\n",
       "      <td>0.57231</td>\n",
       "      <td>0.57149</td>\n",
       "      <td>0.73989</td>\n",
       "      <td>0.64488</td>\n",
       "    </tr>\n",
       "    <tr>\n",
       "      <th>1</th>\n",
       "      <td>SVM_linear</td>\n",
       "      <td>0.57426</td>\n",
       "      <td>0.57114</td>\n",
       "      <td>0.75798</td>\n",
       "      <td>0.65143</td>\n",
       "    </tr>\n",
       "    <tr>\n",
       "      <th>2</th>\n",
       "      <td>SVM_rbf</td>\n",
       "      <td>0.60162</td>\n",
       "      <td>0.60180</td>\n",
       "      <td>0.71223</td>\n",
       "      <td>0.65238</td>\n",
       "    </tr>\n",
       "    <tr>\n",
       "      <th>3</th>\n",
       "      <td>Random_Forest(n=100)</td>\n",
       "      <td>0.62814</td>\n",
       "      <td>0.63048</td>\n",
       "      <td>0.70426</td>\n",
       "      <td>0.66533</td>\n",
       "    </tr>\n",
       "    <tr>\n",
       "      <th>4</th>\n",
       "      <td>Random_Forest(n=100,GS+Entropy)</td>\n",
       "      <td>0.60664</td>\n",
       "      <td>0.60173</td>\n",
       "      <td>0.74096</td>\n",
       "      <td>0.66412</td>\n",
       "    </tr>\n",
       "    <tr>\n",
       "      <th>5</th>\n",
       "      <td>Random_Forest(n=100,GS+Entropy)</td>\n",
       "      <td>0.60302</td>\n",
       "      <td>0.60915</td>\n",
       "      <td>0.67979</td>\n",
       "      <td>0.64253</td>\n",
       "    </tr>\n",
       "  </tbody>\n",
       "</table>\n",
       "</div>"
      ],
      "text/plain": [
       "                        Model_Name  Accuracy  Precision  Recall  F1-Score\n",
       "0       Logistic Regression(Lasso)   0.57231    0.57149 0.73989   0.64488\n",
       "1                       SVM_linear   0.57426    0.57114 0.75798   0.65143\n",
       "2                          SVM_rbf   0.60162    0.60180 0.71223   0.65238\n",
       "3             Random_Forest(n=100)   0.62814    0.63048 0.70426   0.66533\n",
       "4  Random_Forest(n=100,GS+Entropy)   0.60664    0.60173 0.74096   0.66412\n",
       "5  Random_Forest(n=100,GS+Entropy)   0.60302    0.60915 0.67979   0.64253"
      ]
     },
     "execution_count": 106,
     "metadata": {},
     "output_type": "execute_result"
    }
   ],
   "source": [
    "results"
   ]
  },
  {
   "cell_type": "markdown",
   "metadata": {},
   "source": [
    "# Rounds of GridSearch with Gini"
   ]
  },
  {
   "cell_type": "code",
   "execution_count": 87,
   "metadata": {},
   "outputs": [],
   "source": [
    "#Entropy\n",
    "parameters={'max_depth':[2,3,4],\n",
    "           'max_features':[1,5,10],\n",
    "           'min_samples_split':[2,5,10],\n",
    "           'min_samples_leaf':[1,5,10],\n",
    "           'bootstrap':[True,False],\n",
    "           'criterion':['gini']}"
   ]
  },
  {
   "cell_type": "code",
   "execution_count": 88,
   "metadata": {},
   "outputs": [],
   "source": [
    "grid_cv=GridSearchCV(estimator=fr_clf,param_grid=parameters,scoring='accuracy',cv=10,n_jobs=-1)"
   ]
  },
  {
   "cell_type": "code",
   "execution_count": 89,
   "metadata": {},
   "outputs": [],
   "source": [
    "t0=time.time()\n",
    "grid_cv.fit(X_train,y_train)\n",
    "t1=time.time()"
   ]
  },
  {
   "cell_type": "code",
   "execution_count": 90,
   "metadata": {},
   "outputs": [
    {
     "name": "stdout",
     "output_type": "stream",
     "text": [
      "Took 381.04 seconds\n"
     ]
    }
   ],
   "source": [
    "print(\"Took %0.2f seconds\"%(t1-t0))"
   ]
  },
  {
   "cell_type": "code",
   "execution_count": 91,
   "metadata": {},
   "outputs": [],
   "source": [
    "rf_best_accuracy=grid_cv.best_score_"
   ]
  },
  {
   "cell_type": "code",
   "execution_count": 92,
   "metadata": {},
   "outputs": [],
   "source": [
    "rf_best_params=grid_cv.best_params_"
   ]
  },
  {
   "cell_type": "code",
   "execution_count": 93,
   "metadata": {},
   "outputs": [
    {
     "data": {
      "text/plain": [
       "0.6100067931869306"
      ]
     },
     "execution_count": 93,
     "metadata": {},
     "output_type": "execute_result"
    }
   ],
   "source": [
    "rf_best_accuracy"
   ]
  },
  {
   "cell_type": "code",
   "execution_count": 94,
   "metadata": {},
   "outputs": [
    {
     "data": {
      "text/plain": [
       "{'bootstrap': False,\n",
       " 'criterion': 'gini',\n",
       " 'max_depth': 4,\n",
       " 'max_features': 5,\n",
       " 'min_samples_leaf': 10,\n",
       " 'min_samples_split': 2}"
      ]
     },
     "execution_count": 94,
     "metadata": {},
     "output_type": "execute_result"
    }
   ],
   "source": [
    "rf_best_params"
   ]
  },
  {
   "cell_type": "markdown",
   "metadata": {},
   "source": [
    "# Round 2 with Gini"
   ]
  },
  {
   "cell_type": "code",
   "execution_count": 107,
   "metadata": {},
   "outputs": [],
   "source": [
    "#Entropy\n",
    "parameters={'max_depth':[4,5,6],\n",
    "           'max_features':[4,5,6],\n",
    "           'min_samples_split':[2,3,4],\n",
    "           'min_samples_leaf':[9,10,11],\n",
    "           'bootstrap':[False],\n",
    "           'criterion':['gini']}"
   ]
  },
  {
   "cell_type": "code",
   "execution_count": 108,
   "metadata": {},
   "outputs": [],
   "source": [
    "grid_cv=GridSearchCV(estimator=fr_clf,param_grid=parameters,scoring='accuracy',cv=10,n_jobs=-1)"
   ]
  },
  {
   "cell_type": "code",
   "execution_count": 109,
   "metadata": {},
   "outputs": [],
   "source": [
    "t0=time.time()\n",
    "grid_cv.fit(X_train,y_train)\n",
    "t1=time.time()"
   ]
  },
  {
   "cell_type": "code",
   "execution_count": 110,
   "metadata": {},
   "outputs": [
    {
     "name": "stdout",
     "output_type": "stream",
     "text": [
      "Took 284.02 seconds\n"
     ]
    }
   ],
   "source": [
    "print(\"Took %0.2f seconds\"%(t1-t0))"
   ]
  },
  {
   "cell_type": "code",
   "execution_count": 111,
   "metadata": {},
   "outputs": [],
   "source": [
    "rf_best_accuracy=grid_cv.best_score_"
   ]
  },
  {
   "cell_type": "code",
   "execution_count": 112,
   "metadata": {},
   "outputs": [],
   "source": [
    "rf_best_params=grid_cv.best_params_"
   ]
  },
  {
   "cell_type": "code",
   "execution_count": 113,
   "metadata": {},
   "outputs": [
    {
     "data": {
      "text/plain": [
       "0.6248043425715478"
      ]
     },
     "execution_count": 113,
     "metadata": {},
     "output_type": "execute_result"
    }
   ],
   "source": [
    "rf_best_accuracy"
   ]
  },
  {
   "cell_type": "code",
   "execution_count": 114,
   "metadata": {},
   "outputs": [
    {
     "data": {
      "text/plain": [
       "{'bootstrap': False,\n",
       " 'criterion': 'gini',\n",
       " 'max_depth': 6,\n",
       " 'max_features': 6,\n",
       " 'min_samples_leaf': 11,\n",
       " 'min_samples_split': 3}"
      ]
     },
     "execution_count": 114,
     "metadata": {},
     "output_type": "execute_result"
    }
   ],
   "source": [
    "rf_best_params"
   ]
  },
  {
   "cell_type": "code",
   "execution_count": 115,
   "metadata": {},
   "outputs": [],
   "source": [
    "y_pred=grid_cv.predict(X_test)"
   ]
  },
  {
   "cell_type": "code",
   "execution_count": 117,
   "metadata": {},
   "outputs": [],
   "source": [
    "acc=accuracy_score(y_test,y_pred)\n",
    "pre=precision_score(y_test,y_pred)\n",
    "rec=recall_score(y_test,y_pred)\n",
    "f1=f1_score(y_test,y_pred)"
   ]
  },
  {
   "cell_type": "code",
   "execution_count": 120,
   "metadata": {},
   "outputs": [],
   "source": [
    "results=results.append(pd.DataFrame([['Random_Forest(n=100,GS+Gini)',acc,pre,rec,f1]],columns=['Model_Name','Accuracy','Precision','Recall','F1-Score']),ignore_index=True)"
   ]
  },
  {
   "cell_type": "code",
   "execution_count": 124,
   "metadata": {},
   "outputs": [
    {
     "data": {
      "text/html": [
       "<div>\n",
       "<style scoped>\n",
       "    .dataframe tbody tr th:only-of-type {\n",
       "        vertical-align: middle;\n",
       "    }\n",
       "\n",
       "    .dataframe tbody tr th {\n",
       "        vertical-align: top;\n",
       "    }\n",
       "\n",
       "    .dataframe thead th {\n",
       "        text-align: right;\n",
       "    }\n",
       "</style>\n",
       "<table border=\"1\" class=\"dataframe\">\n",
       "  <thead>\n",
       "    <tr style=\"text-align: right;\">\n",
       "      <th></th>\n",
       "      <th>Model_Name</th>\n",
       "      <th>Accuracy</th>\n",
       "      <th>Precision</th>\n",
       "      <th>Recall</th>\n",
       "      <th>F1-Score</th>\n",
       "    </tr>\n",
       "  </thead>\n",
       "  <tbody>\n",
       "    <tr>\n",
       "      <th>0</th>\n",
       "      <td>Logistic Regression(Lasso)</td>\n",
       "      <td>0.57231</td>\n",
       "      <td>0.57149</td>\n",
       "      <td>0.73989</td>\n",
       "      <td>0.64488</td>\n",
       "    </tr>\n",
       "    <tr>\n",
       "      <th>1</th>\n",
       "      <td>SVM_linear</td>\n",
       "      <td>0.57426</td>\n",
       "      <td>0.57114</td>\n",
       "      <td>0.75798</td>\n",
       "      <td>0.65143</td>\n",
       "    </tr>\n",
       "    <tr>\n",
       "      <th>2</th>\n",
       "      <td>SVM_rbf</td>\n",
       "      <td>0.60162</td>\n",
       "      <td>0.60180</td>\n",
       "      <td>0.71223</td>\n",
       "      <td>0.65238</td>\n",
       "    </tr>\n",
       "    <tr>\n",
       "      <th>3</th>\n",
       "      <td>Random_Forest(n=100)</td>\n",
       "      <td>0.62814</td>\n",
       "      <td>0.63048</td>\n",
       "      <td>0.70426</td>\n",
       "      <td>0.66533</td>\n",
       "    </tr>\n",
       "    <tr>\n",
       "      <th>5</th>\n",
       "      <td>Random_Forest(n=100,GS+Entropy)</td>\n",
       "      <td>0.60302</td>\n",
       "      <td>0.60915</td>\n",
       "      <td>0.67979</td>\n",
       "      <td>0.64253</td>\n",
       "    </tr>\n",
       "    <tr>\n",
       "      <th>7</th>\n",
       "      <td>Random_Forest(n=100,GS+Gini)</td>\n",
       "      <td>0.61418</td>\n",
       "      <td>0.61846</td>\n",
       "      <td>0.69149</td>\n",
       "      <td>0.65294</td>\n",
       "    </tr>\n",
       "  </tbody>\n",
       "</table>\n",
       "</div>"
      ],
      "text/plain": [
       "                        Model_Name  Accuracy  Precision  Recall  F1-Score\n",
       "0       Logistic Regression(Lasso)   0.57231    0.57149 0.73989   0.64488\n",
       "1                       SVM_linear   0.57426    0.57114 0.75798   0.65143\n",
       "2                          SVM_rbf   0.60162    0.60180 0.71223   0.65238\n",
       "3             Random_Forest(n=100)   0.62814    0.63048 0.70426   0.66533\n",
       "5  Random_Forest(n=100,GS+Entropy)   0.60302    0.60915 0.67979   0.64253\n",
       "7     Random_Forest(n=100,GS+Gini)   0.61418    0.61846 0.69149   0.65294"
      ]
     },
     "execution_count": 124,
     "metadata": {},
     "output_type": "execute_result"
    }
   ],
   "source": [
    "results"
   ]
  },
  {
   "cell_type": "markdown",
   "metadata": {},
   "source": [
    "* Best model is Random Forest (n=100) is best with higher Accuracy, Precision, Recall and F1"
   ]
  },
  {
   "cell_type": "markdown",
   "metadata": {},
   "source": [
    "# Final results"
   ]
  },
  {
   "cell_type": "code",
   "execution_count": 146,
   "metadata": {},
   "outputs": [],
   "source": [
    "final=pd.concat([y_test,user_test],axis=1).dropna()"
   ]
  },
  {
   "cell_type": "code",
   "execution_count": 147,
   "metadata": {},
   "outputs": [],
   "source": [
    "final['preds']=fr_clf.predict(X_test)"
   ]
  },
  {
   "cell_type": "code",
   "execution_count": 153,
   "metadata": {},
   "outputs": [],
   "source": [
    "final=final[['entry_id','e_signed','preds']].reset_index().drop(columns='index')"
   ]
  },
  {
   "cell_type": "code",
   "execution_count": 154,
   "metadata": {},
   "outputs": [
    {
     "data": {
      "text/html": [
       "<div>\n",
       "<style scoped>\n",
       "    .dataframe tbody tr th:only-of-type {\n",
       "        vertical-align: middle;\n",
       "    }\n",
       "\n",
       "    .dataframe tbody tr th {\n",
       "        vertical-align: top;\n",
       "    }\n",
       "\n",
       "    .dataframe thead th {\n",
       "        text-align: right;\n",
       "    }\n",
       "</style>\n",
       "<table border=\"1\" class=\"dataframe\">\n",
       "  <thead>\n",
       "    <tr style=\"text-align: right;\">\n",
       "      <th></th>\n",
       "      <th>entry_id</th>\n",
       "      <th>e_signed</th>\n",
       "      <th>preds</th>\n",
       "    </tr>\n",
       "  </thead>\n",
       "  <tbody>\n",
       "    <tr>\n",
       "      <th>0</th>\n",
       "      <td>6788497</td>\n",
       "      <td>0</td>\n",
       "      <td>0</td>\n",
       "    </tr>\n",
       "    <tr>\n",
       "      <th>1</th>\n",
       "      <td>9256921</td>\n",
       "      <td>0</td>\n",
       "      <td>0</td>\n",
       "    </tr>\n",
       "    <tr>\n",
       "      <th>2</th>\n",
       "      <td>6335710</td>\n",
       "      <td>1</td>\n",
       "      <td>1</td>\n",
       "    </tr>\n",
       "    <tr>\n",
       "      <th>3</th>\n",
       "      <td>8320175</td>\n",
       "      <td>1</td>\n",
       "      <td>1</td>\n",
       "    </tr>\n",
       "    <tr>\n",
       "      <th>4</th>\n",
       "      <td>3802675</td>\n",
       "      <td>1</td>\n",
       "      <td>1</td>\n",
       "    </tr>\n",
       "    <tr>\n",
       "      <th>...</th>\n",
       "      <td>...</td>\n",
       "      <td>...</td>\n",
       "      <td>...</td>\n",
       "    </tr>\n",
       "    <tr>\n",
       "      <th>3577</th>\n",
       "      <td>9234410</td>\n",
       "      <td>1</td>\n",
       "      <td>0</td>\n",
       "    </tr>\n",
       "    <tr>\n",
       "      <th>3578</th>\n",
       "      <td>9835418</td>\n",
       "      <td>1</td>\n",
       "      <td>0</td>\n",
       "    </tr>\n",
       "    <tr>\n",
       "      <th>3579</th>\n",
       "      <td>8709063</td>\n",
       "      <td>0</td>\n",
       "      <td>1</td>\n",
       "    </tr>\n",
       "    <tr>\n",
       "      <th>3580</th>\n",
       "      <td>7069276</td>\n",
       "      <td>0</td>\n",
       "      <td>0</td>\n",
       "    </tr>\n",
       "    <tr>\n",
       "      <th>3581</th>\n",
       "      <td>9725158</td>\n",
       "      <td>0</td>\n",
       "      <td>1</td>\n",
       "    </tr>\n",
       "  </tbody>\n",
       "</table>\n",
       "<p>3582 rows × 3 columns</p>\n",
       "</div>"
      ],
      "text/plain": [
       "      entry_id  e_signed  preds\n",
       "0      6788497         0      0\n",
       "1      9256921         0      0\n",
       "2      6335710         1      1\n",
       "3      8320175         1      1\n",
       "4      3802675         1      1\n",
       "...        ...       ...    ...\n",
       "3577   9234410         1      0\n",
       "3578   9835418         1      0\n",
       "3579   8709063         0      1\n",
       "3580   7069276         0      0\n",
       "3581   9725158         0      1\n",
       "\n",
       "[3582 rows x 3 columns]"
      ]
     },
     "execution_count": 154,
     "metadata": {},
     "output_type": "execute_result"
    }
   ],
   "source": [
    "final"
   ]
  },
  {
   "cell_type": "markdown",
   "metadata": {},
   "source": [
    "# Conclusion\n",
    "* Our Model gave us around 64% accuracy. \n",
    "* Our model tells us whether or not someone will reach the esigning step.\n",
    "* One way to use the model is to reach out to those not likely to esign with customized experience. This way we can get those users not expected to sign to onboard, and increase our profits.\n",
    "    "
   ]
  }
 ],
 "metadata": {
  "kernelspec": {
   "display_name": "Python 3",
   "language": "python",
   "name": "python3"
  },
  "language_info": {
   "codemirror_mode": {
    "name": "ipython",
    "version": 3
   },
   "file_extension": ".py",
   "mimetype": "text/x-python",
   "name": "python",
   "nbconvert_exporter": "python",
   "pygments_lexer": "ipython3",
   "version": "3.7.6"
  }
 },
 "nbformat": 4,
 "nbformat_minor": 4
}
